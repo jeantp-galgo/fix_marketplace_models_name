{
 "cells": [
  {
   "cell_type": "code",
   "execution_count": 1,
   "metadata": {},
   "outputs": [],
   "source": [
    "import pandas as pd\n",
    "# from scraping.app import quick_scrape\n",
    "from bs4 import BeautifulSoup"
   ]
  },
  {
   "cell_type": "code",
   "execution_count": 2,
   "metadata": {},
   "outputs": [],
   "source": [
    "# res = quick_scrape(\"https://www.ktm.com/es-mx/models/naked-bike.html\")\n",
    "# print(res)"
   ]
  },
  {
   "cell_type": "code",
   "execution_count": 3,
   "metadata": {},
   "outputs": [],
   "source": [
    "pais = 'MX'"
   ]
  },
  {
   "cell_type": "code",
   "execution_count": 4,
   "metadata": {},
   "outputs": [
    {
     "name": "stderr",
     "output_type": "stream",
     "text": [
      "C:\\Users\\JTRUJILLO\\AppData\\Local\\Temp\\ipykernel_1540\\3877049551.py:5: DtypeWarning: Columns (13) have mixed types. Specify dtype option on import or set low_memory=False.\n",
      "  df_base = pd.read_csv(base_mx)\n"
     ]
    }
   ],
   "source": [
    "base_mx = r\"C:\\Users\\JTRUJILLO\\Documents\\Galgo\\Scripts\\Data\\historical_data\\history\\MX\\BaseMXv5.csv\"\n",
    "base_co = r\"C:\\Users\\JTRUJILLO\\Documents\\Galgo\\Scripts\\Data\\historical_data\\history\\CO\\BaseCOv2.csv\"\n",
    "base_cl = r\"C:\\Users\\JTRUJILLO\\Documents\\Galgo\\Scripts\\Data\\historical_data\\history\\CL-MOTORCYCLES\\df_cl-motorcycles_history.csv\"\n",
    "if pais == \"MX\":\n",
    "    df_base = pd.read_csv(base_mx)\n",
    "elif pais == \"CO\":\n",
    "    df_base = pd.read_csv(base_co)\n",
    "elif pais == \"CL\":\n",
    "    df_base = pd.read_csv(base_cl)\n"
   ]
  },
  {
   "cell_type": "code",
   "execution_count": 5,
   "metadata": {},
   "outputs": [],
   "source": [
    "last_date = df_base[\"Fecha de actualización\"].iloc[-1]\n",
    "df_base = df_base[df_base[\"Fecha de actualización\"] == last_date]"
   ]
  },
  {
   "cell_type": "code",
   "execution_count": 6,
   "metadata": {},
   "outputs": [],
   "source": [
    "nombre_marca = \"KTM\""
   ]
  },
  {
   "cell_type": "code",
   "execution_count": 7,
   "metadata": {},
   "outputs": [],
   "source": [
    "def leer_html(ruta_html):\n",
    "    \"\"\"Lee un archivo HTML y extrae solo el texto limpio, sin etiquetas.\"\"\"\n",
    "    try:\n",
    "        with open(ruta_html, 'r', encoding='utf-8') as archivo_html:\n",
    "            contenido_html = archivo_html.read()\n",
    "\n",
    "            # Parsear el HTML y extraer solo el texto\n",
    "            soup = BeautifulSoup(contenido_html, 'html.parser')\n",
    "            texto_limpio = soup.get_text(separator=\"\\n\", strip=True)  # Extraer texto con saltos de línea\n",
    "\n",
    "            return texto_limpio  # Devuelve el texto limpio\n",
    "    except FileNotFoundError:\n",
    "        print(f\"El archivo {ruta_html} no se encontró.\")\n",
    "        return None\n",
    "    except Exception as e:\n",
    "        print(f\"Ocurrió un error al leer el archivo HTML: {e}\")\n",
    "        return None"
   ]
  },
  {
   "cell_type": "code",
   "execution_count": 8,
   "metadata": {},
   "outputs": [],
   "source": [
    "ruta = f\"C:\\\\Users\\\\JTRUJILLO\\\\Documents\\\\Galgo\\\\Scripts\\\\Otros\\\\homologar_modelos\\\\pages\\\\{nombre_marca}\\\\{nombre_marca}.html\""
   ]
  },
  {
   "cell_type": "code",
   "execution_count": 9,
   "metadata": {},
   "outputs": [
    {
     "data": {
      "text/plain": [
       "\"2025 KTM 790 Duke\\nTHE SCALPEL\\nPÁGINA DEL MODELO\\nCONFIGURADOR\\n2025 KTM 390 Duke\\nTHE CORNER ROCKET\\nPÁGINA DEL MODELO\\nCONFIGURADOR\\n2025 KTM 250 Duke\\nTHE THRILL CHASER\\nPÁGINA DEL MODELO\\n2025 KTM 200 Duke\\nPÁGINA DEL MODELO\\n2024 KTM 990 DUKE\\nTHE SNIPER\\nPÁGINA DEL MODELO\\nCONFIGURADOR\\n2024 KTM 250 DUKE\\nTHE THRILL CHASER\\nPÁGINA DEL MODELO\\n200 Duke 2024\\nPÁGINA DEL MODELO\\n2023 KTM 890 Duke GP\\nTHE SCALPEL\\nPÁGINA DEL MODELO\\nKTM 200 Duke con ABS 2023\\nLIGHT HEAVYWEIGHT\\nPÁGINA DEL MODELO\\n2023 KTM 200 Duke\\nLIGHT HEAVYWEIGHT\\nPÁGINA DEL MODELO\\n1390 SUPER Duke R\\nLa BESTIA ha vuelto a por más. La KTM 1390 SUPER DUKE R ya está aquí y es más grande y más mala que nunca. Un motor de mayor cilindrada significa más potencia y más par motor. Esta última edición reitera que la nueva KTM 1390 SUPER DUKE R no es sólo una Superbike a la que se le ha quitado el carenado, sino una pura motocicleta Naked bike construida desde cero.\\n1390 SUPER DUKE R EVO\\nLa KTM 1390 SUPER DUKE R EVO es exactamente eso, LA BESTIA evolucionada. Con suspensiones WP de nuevo nivel, esta moto pretende recuperar el lugar de la SUPER DUKE en lo más alto del segmento Hyper Naked.\\n990 Duke\\nLa KTM 990 DUKE llega con un objetivo: imprimir su autoridad en el segmento Super Naked. Apodada THE SNIPER, esta motocicleta, con su nuevo diseño, bastidor y motor, consigue un equilibrio inigualable entre potencia brutal y agilidad implacable. La KTM 990 DUKE está lista para sacudir los cimientos del segmento Super Naked.\\n790 DUKE\\nRecuperada en 2023 gracias a la gran demanda, LA ESCALPELA ORIGINAL sigue haciendo honor a su nombre. Con su chasis ligero y su agudísima capacidad de paso por curva, esta moto es la herramienta perfecta para tomar las curvas con facilidad. La KTM 790 DUKE está más afilada que nunca.\\n390 Duke\\nLa KTM 390 DUKE recibe un impulso de 'autenticidad’. Su nuevo aspecto agresivo respalda su característico comportamiento afilado, su potente motor de 399 cc y su avanzada tecnología. Esta máquina increíblemente ágil se siente igual de cómoda dominando las el infestado tráfico urbano que destrozando curvas en carreteras reviradas más abiertas... NO BULLSHIT! Esta máquina encarna realmente su alias de CORNER ROCKET.\\n2025 KTM 390 ENDURO R\\n2025 KTM 390 SMC R\\n2025 KTM 125 SMC R\\n2025 KTM 450 SMR\\n2024 KTM 690 SMC R\\n2025 KTM 450 SMR\\nALL OUT APEX ASSAULT\\nPÁGINA DEL MODELO\\n2025 KTM 390 SMC R\\nBEHAVE SOMEWHERE ELSE\\nPÁGINA DEL MODELO\\n2024 KTM 450 SMR\\nDRIFT AND LET RIP\\nPÁGINA DEL MODELO\\n2025 KTM 890 Adventure R\\nADVENTURE EVERYWHERE\\nPÁGINA DEL MODELO\\nCONFIGURADOR\\n2025 KTM 790 Adventure\\nADVENTURE FOR EVERYONE\\nPÁGINA DEL MODELO\\nCONFIGURADOR\\n2025 KTM 390 Adventure X\\nALL ROADS, ALL ACTION\\nPÁGINA DEL MODELO\\n2024 KTM 1290 Super Adventure R\\nSEEK UNCHARTED TERRITORY\\nPÁGINA DEL MODELO\\nCONFIGURADOR\\n2024 KTM 1290 Super Adventure S\\nTHE WORLD JUST GOT SMALLER\\nPÁGINA DEL MODELO\\nCONFIGURADOR\\n2024 KTM 890 ADVENTURE R RALLY\\nADVENTURE EVERYWHERE\\nPÁGINA DEL MODELO\\n2024 KTM 890 Adventure\\nFIND NEW ROADS\\nPÁGINA DEL MODELO\\nCONFIGURADOR\\n2024 KTM 390 ADVENTURE SW\\nMAKE LIFE A DARING ADVENTURE\\nPÁGINA DEL MODELO\\n2024 KTM 690 ENDURO R\\nACE OF ALL SURFACES\\nPÁGINA DEL MODELO\\nCONFIGURADOR\\n2025 ktm 890 adventure r\\n2025 ktm 390 adventure r\\n2026 ktm 450 RALLY REPLICA\\n2025 KTM 390 Enduro R\\n2024 KTM 85 SX 19/16\\nTHE GATE DROPS HERE\\nPÁGINA DEL MODELO\\n2024 KTM 85 17/14\\nTHE GATE DROPS HERE\\nPÁGINA DEL MODELO\\n2024 KTM 65 SX\\nSTEP ON UP!\\nPÁGINA DEL MODELO\\nKTM 250 SX 2023\\nRELEASE THE RUCKUS\\nPÁGINA DEL MODELO\\nKTM 50 SX 2023\\nPODIUMS START HERE\\nPÁGINA DEL MODELO\\n2024 KTM 300 EXC\\nLEGENDARY ENDURO\\nPÁGINA DEL MODELO\\n2024 KTM 250 EXC\\nRACE TO NEW HEIGHTS\\nPÁGINA DEL MODELO\\n2024 KTM 150 EXC\\nLIMITLESS\\nPÁGINA DEL MODELO\\n2024 KTM 300 XC\\n2024 KTM RC 8C\\nTRACK ATTACK\\nPÁGINA DEL MODELO\\n2024 KTM RC 390\\nRACE-BRED PERFORMANCE\\nPÁGINA DEL MODELO\\n2024 KTM RC 200\\nEVERYDAY RACER\\nPÁGINA DEL MODELO\""
      ]
     },
     "execution_count": 9,
     "metadata": {},
     "output_type": "execute_result"
    }
   ],
   "source": [
    "marca = leer_html(ruta)\n",
    "marca"
   ]
  },
  {
   "cell_type": "code",
   "execution_count": 10,
   "metadata": {},
   "outputs": [
    {
     "name": "stdout",
     "output_type": "stream",
     "text": [
      "Contenido exportado a KTM.txt\n"
     ]
    }
   ],
   "source": [
    "# Exportar el contenido a un archivo txt\n",
    "with open(f\"pages/{nombre_marca}/{nombre_marca}.txt\", \"w\", encoding=\"utf-8\") as archivo:\n",
    "    archivo.write(marca)\n",
    "print(f\"Contenido exportado a {nombre_marca}.txt\")"
   ]
  },
  {
   "cell_type": "code",
   "execution_count": 11,
   "metadata": {},
   "outputs": [],
   "source": [
    "# Leer el contenido del archivo txt\n",
    "with open(f\"pages/{nombre_marca}/{nombre_marca}.txt\", \"r\", encoding=\"utf-8\") as archivo:\n",
    "    marca = archivo.read()"
   ]
  },
  {
   "cell_type": "code",
   "execution_count": 12,
   "metadata": {},
   "outputs": [
    {
     "data": {
      "text/plain": [
       "\"2025 KTM 790 Duke\\nTHE SCALPEL\\nPÁGINA DEL MODELO\\nCONFIGURADOR\\n2025 KTM 390 Duke\\nTHE CORNER ROCKET\\nPÁGINA DEL MODELO\\nCONFIGURADOR\\n2025 KTM 250 Duke\\nTHE THRILL CHASER\\nPÁGINA DEL MODELO\\n2025 KTM 200 Duke\\nPÁGINA DEL MODELO\\n2024 KTM 990 DUKE\\nTHE SNIPER\\nPÁGINA DEL MODELO\\nCONFIGURADOR\\n2024 KTM 250 DUKE\\nTHE THRILL CHASER\\nPÁGINA DEL MODELO\\n200 Duke 2024\\nPÁGINA DEL MODELO\\n2023 KTM 890 Duke GP\\nTHE SCALPEL\\nPÁGINA DEL MODELO\\nKTM 200 Duke con ABS 2023\\nLIGHT HEAVYWEIGHT\\nPÁGINA DEL MODELO\\n2023 KTM 200 Duke\\nLIGHT HEAVYWEIGHT\\nPÁGINA DEL MODELO\\n1390 SUPER Duke R\\nLa BESTIA ha vuelto a por más. La KTM 1390 SUPER DUKE R ya está aquí y es más grande y más mala que nunca. Un motor de mayor cilindrada significa más potencia y más par motor. Esta última edición reitera que la nueva KTM 1390 SUPER DUKE R no es sólo una Superbike a la que se le ha quitado el carenado, sino una pura motocicleta Naked bike construida desde cero.\\n1390 SUPER DUKE R EVO\\nLa KTM 1390 SUPER DUKE R EVO es exactamente eso, LA BESTIA evolucionada. Con suspensiones WP de nuevo nivel, esta moto pretende recuperar el lugar de la SUPER DUKE en lo más alto del segmento Hyper Naked.\\n990 Duke\\nLa KTM 990 DUKE llega con un objetivo: imprimir su autoridad en el segmento Super Naked. Apodada THE SNIPER, esta motocicleta, con su nuevo diseño, bastidor y motor, consigue un equilibrio inigualable entre potencia brutal y agilidad implacable. La KTM 990 DUKE está lista para sacudir los cimientos del segmento Super Naked.\\n790 DUKE\\nRecuperada en 2023 gracias a la gran demanda, LA ESCALPELA ORIGINAL sigue haciendo honor a su nombre. Con su chasis ligero y su agudísima capacidad de paso por curva, esta moto es la herramienta perfecta para tomar las curvas con facilidad. La KTM 790 DUKE está más afilada que nunca.\\n390 Duke\\nLa KTM 390 DUKE recibe un impulso de 'autenticidad’. Su nuevo aspecto agresivo respalda su característico comportamiento afilado, su potente motor de 399 cc y su avanzada tecnología. Esta máquina increíblemente ágil se siente igual de cómoda dominando las el infestado tráfico urbano que destrozando curvas en carreteras reviradas más abiertas... NO BULLSHIT! Esta máquina encarna realmente su alias de CORNER ROCKET.\\n2025 KTM 390 ENDURO R\\n2025 KTM 390 SMC R\\n2025 KTM 125 SMC R\\n2025 KTM 450 SMR\\n2024 KTM 690 SMC R\\n2025 KTM 450 SMR\\nALL OUT APEX ASSAULT\\nPÁGINA DEL MODELO\\n2025 KTM 390 SMC R\\nBEHAVE SOMEWHERE ELSE\\nPÁGINA DEL MODELO\\n2024 KTM 450 SMR\\nDRIFT AND LET RIP\\nPÁGINA DEL MODELO\\n2025 KTM 890 Adventure R\\nADVENTURE EVERYWHERE\\nPÁGINA DEL MODELO\\nCONFIGURADOR\\n2025 KTM 790 Adventure\\nADVENTURE FOR EVERYONE\\nPÁGINA DEL MODELO\\nCONFIGURADOR\\n2025 KTM 390 Adventure X\\nALL ROADS, ALL ACTION\\nPÁGINA DEL MODELO\\n2024 KTM 1290 Super Adventure R\\nSEEK UNCHARTED TERRITORY\\nPÁGINA DEL MODELO\\nCONFIGURADOR\\n2024 KTM 1290 Super Adventure S\\nTHE WORLD JUST GOT SMALLER\\nPÁGINA DEL MODELO\\nCONFIGURADOR\\n2024 KTM 890 ADVENTURE R RALLY\\nADVENTURE EVERYWHERE\\nPÁGINA DEL MODELO\\n2024 KTM 890 Adventure\\nFIND NEW ROADS\\nPÁGINA DEL MODELO\\nCONFIGURADOR\\n2024 KTM 390 ADVENTURE SW\\nMAKE LIFE A DARING ADVENTURE\\nPÁGINA DEL MODELO\\n2024 KTM 690 ENDURO R\\nACE OF ALL SURFACES\\nPÁGINA DEL MODELO\\nCONFIGURADOR\\n2025 ktm 890 adventure r\\n2025 ktm 390 adventure r\\n2026 ktm 450 RALLY REPLICA\\n2025 KTM 390 Enduro R\\n2024 KTM 85 SX 19/16\\nTHE GATE DROPS HERE\\nPÁGINA DEL MODELO\\n2024 KTM 85 17/14\\nTHE GATE DROPS HERE\\nPÁGINA DEL MODELO\\n2024 KTM 65 SX\\nSTEP ON UP!\\nPÁGINA DEL MODELO\\nKTM 250 SX 2023\\nRELEASE THE RUCKUS\\nPÁGINA DEL MODELO\\nKTM 50 SX 2023\\nPODIUMS START HERE\\nPÁGINA DEL MODELO\\n2024 KTM 300 EXC\\nLEGENDARY ENDURO\\nPÁGINA DEL MODELO\\n2024 KTM 250 EXC\\nRACE TO NEW HEIGHTS\\nPÁGINA DEL MODELO\\n2024 KTM 150 EXC\\nLIMITLESS\\nPÁGINA DEL MODELO\\n2024 KTM 300 XC\\n2024 KTM RC 8C\\nTRACK ATTACK\\nPÁGINA DEL MODELO\\n2024 KTM RC 390\\nRACE-BRED PERFORMANCE\\nPÁGINA DEL MODELO\\n2024 KTM RC 200\\nEVERYDAY RACER\\nPÁGINA DEL MODELO\""
      ]
     },
     "execution_count": 12,
     "metadata": {},
     "output_type": "execute_result"
    }
   ],
   "source": [
    "marca"
   ]
  },
  {
   "cell_type": "markdown",
   "metadata": {},
   "source": [
    "### Eliminar no-modelos"
   ]
  },
  {
   "cell_type": "code",
   "execution_count": 13,
   "metadata": {},
   "outputs": [],
   "source": [
    "from openai_utils.templates.gpt_questions import obtener_respuesta"
   ]
  },
  {
   "cell_type": "code",
   "execution_count": 14,
   "metadata": {},
   "outputs": [],
   "source": [
    "# Modificación del prompt para obtener una respuesta estructurada\n",
    "pregunta = f\"\"\"\n",
    "Necesito que de la siguiente lista, me retornes los que son modelos de motos. Texto descriptivo no lo elijas.\n",
    "La lista es la siguiente:\n",
    "{marca}\n",
    "\"\"\""
   ]
  },
  {
   "cell_type": "code",
   "execution_count": 15,
   "metadata": {},
   "outputs": [],
   "source": [
    "respuesta_ia = obtener_respuesta(pregunta, 500)"
   ]
  },
  {
   "cell_type": "code",
   "execution_count": 16,
   "metadata": {},
   "outputs": [
    {
     "data": {
      "text/plain": [
       "'Los modelos de motos de la lista son:\\n- 2025 KTM 790 Duke\\n- 2025 KTM 390 Duke\\n- 2025 KTM 250 Duke\\n- 2025 KTM 200 Duke\\n- 2024 KTM 990 DUKE\\n- 2024 KTM 250 DUKE\\n- 2023 KTM 890 Duke GP\\n- KTM 200 Duke con ABS 2023\\n- 2023 KTM 200 Duke\\n- 1390 SUPER Duke R\\n- 1390 SUPER Duke R EVO\\n- 990 Duke\\n- 790 DUKE\\n- 390 Duke\\n- 2025 KTM 390 ENDURO R\\n- 2025 KTM 390 SMC R\\n- 2025 KTM 125 SMC R\\n- 2025 KTM 450 SMR\\n- 2024 KTM 690 SMC R\\n- 2025 KTM 450 SMR\\n- 2025 KTM 390 SMC R\\n- 2024 KTM 450 SMR\\n- 2025 KTM 890 Adventure R\\n- 2025 KTM 790 Adventure\\n- 2025 KTM 390 Adventure X\\n- 2024 KTM 1290 Super Adventure R\\n- 2024 KTM 1290 Super Adventure S\\n- 2024 KTM 890 ADVENTURE R RALLY\\n- 2024 KTM 890 Adventure\\n- 2024 KTM 390 ADVENTURE SW\\n- 2024 KTM 690 ENDURO R\\n- 2025 ktm 890 adventure r\\n- 2025 ktm 390 adventure r\\n- 2026 ktm 450 RALLY REPLICA\\n- 2025 KTM 390 Enduro R\\n- 2024 KTM 85 SX 19/16\\n- 2024 KTM 85 17/14\\n- 2024 KTM 65 SX\\n- KTM 250 SX 2023\\n- KTM 50 SX 2023\\n- 2024 KTM 300 EXC\\n- 2024 KTM 250 EXC\\n- 2024 KTM 150 EXC\\n- 2024 KTM 300 XC\\n- 2024 KTM RC 8C\\n'"
      ]
     },
     "execution_count": 16,
     "metadata": {},
     "output_type": "execute_result"
    }
   ],
   "source": [
    "texto_modelos_desordenados = respuesta_ia['respuesta']\n",
    "texto_modelos_desordenados"
   ]
  },
  {
   "cell_type": "markdown",
   "metadata": {},
   "source": [
    "### Sacar modelos de una lista"
   ]
  },
  {
   "cell_type": "code",
   "execution_count": 17,
   "metadata": {},
   "outputs": [],
   "source": [
    "def get_modelos_from_text(texto_modelos_desordenados: str, nombre_marca: str) -> list[str]:\n",
    "    # Convertir el texto de marca a una lista de modelos\n",
    "    modelos_marca = texto_modelos_desordenados.split('\\n')\n",
    "\n",
    "    # Filtrar elementos vacíos y limpiar la lista\n",
    "    modelos_limpios = [modelo.strip() for modelo in modelos_marca if modelo.strip()]\n",
    "\n",
    "    # Filtrar años que empiecen por 2000 (4 dígitos) y eliminar años del texto\n",
    "    import re\n",
    "    modelos_sin_anos = []\n",
    "    for modelo in modelos_limpios:\n",
    "        # Eliminar años de 4 dígitos que empiecen con 20\n",
    "        modelo_limpio = re.sub(r'\\b20\\d{2}\\b', '', modelo).strip()\n",
    "        # Solo agregar si no es solo un año de 4 dígitos\n",
    "        if not (len(modelo) == 4 and modelo.startswith('20')):\n",
    "            if modelo_limpio:  # Solo agregar si no queda vacío después de limpiar\n",
    "                # Eliminar guiones al inicio y espacios extra\n",
    "                modelo_final = re.sub(r'^-\\s*', '', modelo_limpio).strip()\n",
    "                if modelo_final:  # Solo agregar si no queda vacío después de limpiar\n",
    "                    # Verificar si el modelo ya contiene el nombre de la marca\n",
    "                    if nombre_marca.upper() not in modelo_final.upper():\n",
    "                        # Agregar el nombre de la marca al inicio si no lo tiene\n",
    "                        modelo_con_marca = f\"{nombre_marca} {modelo_final}\"\n",
    "                        modelos_sin_anos.append(modelo_con_marca)\n",
    "                    else:\n",
    "                        # Si ya tiene el nombre de la marca, agregarlo tal como está\n",
    "                        modelos_sin_anos.append(modelo_final)\n",
    "\n",
    "    # Primero agregar la marca a todos los modelos que no la tengan\n",
    "    modelos_con_marca = []\n",
    "    for modelo in modelos_sin_anos:\n",
    "        if nombre_marca.upper() not in modelo.upper():\n",
    "            modelo_con_marca = f\"{nombre_marca} {modelo}\"\n",
    "            modelos_con_marca.append(modelo_con_marca)\n",
    "        else:\n",
    "            modelos_con_marca.append(modelo)\n",
    "\n",
    "    # Función para formatear el texto del modelo preservando el nombre de la marca\n",
    "    def formatear_modelo(texto: str) -> str:\n",
    "        # Lista de palabras que deben mantenerse en mayúsculas (acrónimos)\n",
    "        acronimos = ['SW', 'R', 'GP', 'ABS', 'XC', 'EXC', 'SX', 'SMR', 'SMC', 'EVO']\n",
    "\n",
    "        # Palabras que deben formatearse con capitalize (primera mayúscula, resto minúsculas)\n",
    "        palabras_capitalize = ['RALLY', 'REPLICA']\n",
    "\n",
    "        # Dividir el texto en palabras\n",
    "        palabras = texto.split()\n",
    "        palabras_formateadas = []\n",
    "\n",
    "        for i, palabra in enumerate(palabras):\n",
    "            # Si es la primera palabra y coincide con el nombre de la marca, mantenerla tal como está\n",
    "            if i == 0 and palabra.upper() == nombre_marca.upper():\n",
    "                palabras_formateadas.append(palabra)\n",
    "            # Si la palabra es un acrónimo, mantenerla en mayúsculas\n",
    "            elif palabra.upper() in [acro.upper() for acro in acronimos]:\n",
    "                palabras_formateadas.append(palabra.upper())\n",
    "            # Si la palabra debe formatearse con capitalize\n",
    "            elif palabra.upper() in [pal.upper() for pal in palabras_capitalize]:\n",
    "                palabras_formateadas.append(palabra.capitalize())\n",
    "            else:\n",
    "                # Para palabras normales, aplicar capitalize (primera letra mayúscula, resto minúsculas)\n",
    "                palabras_formateadas.append(palabra.capitalize())\n",
    "\n",
    "        return ' '.join(palabras_formateadas)\n",
    "\n",
    "    # Aplicar formateo a todos los modelos\n",
    "    modelos_formateados = [formatear_modelo(modelo) for modelo in modelos_con_marca]\n",
    "\n",
    "    # Luego eliminar duplicados de la lista\n",
    "    return list(set(modelos_formateados))"
   ]
  },
  {
   "cell_type": "code",
   "execution_count": 18,
   "metadata": {},
   "outputs": [],
   "source": [
    "lista_modelos_ordenados = get_modelos_from_text(texto_modelos_desordenados, nombre_marca)"
   ]
  },
  {
   "cell_type": "code",
   "execution_count": 19,
   "metadata": {},
   "outputs": [
    {
     "data": {
      "text/plain": [
       "['KTM 790 Adventure',\n",
       " 'KTM 1290 Super Adventure S',\n",
       " 'KTM 390 Enduro R',\n",
       " 'KTM 85 SX 19/16',\n",
       " 'KTM 990 Duke',\n",
       " 'KTM 250 EXC',\n",
       " 'KTM 1390 Super Duke R EVO',\n",
       " 'KTM 890 Adventure',\n",
       " 'KTM 200 Duke Con ABS',\n",
       " 'KTM 390 Adventure SW',\n",
       " 'KTM 300 EXC',\n",
       " 'KTM 690 Enduro R',\n",
       " 'KTM 890 Adventure R Rally',\n",
       " 'KTM 390 SMC R',\n",
       " 'KTM 300 XC',\n",
       " 'KTM 200 Duke',\n",
       " 'KTM 790 Duke',\n",
       " 'KTM 65 SX',\n",
       " 'KTM Rc 8c',\n",
       " 'KTM 1290 Super Adventure R',\n",
       " 'KTM 50 SX',\n",
       " 'ktm 450 Rally Replica',\n",
       " 'KTM 690 SMC R',\n",
       " 'KTM 250 Duke',\n",
       " 'KTM 390 Adventure X',\n",
       " 'ktm 390 Adventure R',\n",
       " 'KTM 890 Adventure R',\n",
       " 'KTM 1390 Super Duke R',\n",
       " 'KTM Los Modelos De Motos De La Lista Son:',\n",
       " 'KTM 85 17/14',\n",
       " 'KTM 390 Duke',\n",
       " 'KTM 150 EXC',\n",
       " 'KTM 890 Duke GP',\n",
       " 'KTM 450 SMR',\n",
       " 'KTM 125 SMC R',\n",
       " 'ktm 890 Adventure R',\n",
       " 'KTM 250 SX']"
      ]
     },
     "execution_count": 19,
     "metadata": {},
     "output_type": "execute_result"
    }
   ],
   "source": [
    "lista_modelos_ordenados"
   ]
  },
  {
   "cell_type": "code",
   "execution_count": 20,
   "metadata": {},
   "outputs": [],
   "source": [
    "df_marca_filtrada = df_base[df_base[\"Marca\"] == nombre_marca]"
   ]
  },
  {
   "cell_type": "code",
   "execution_count": 21,
   "metadata": {},
   "outputs": [
    {
     "name": "stderr",
     "output_type": "stream",
     "text": [
      "C:\\Users\\JTRUJILLO\\AppData\\Local\\Temp\\ipykernel_1540\\346272428.py:1: SettingWithCopyWarning: \n",
      "A value is trying to be set on a copy of a slice from a DataFrame.\n",
      "Try using .loc[row_indexer,col_indexer] = value instead\n",
      "\n",
      "See the caveats in the documentation: https://pandas.pydata.org/pandas-docs/stable/user_guide/indexing.html#returning-a-view-versus-a-copy\n",
      "  df_marca_filtrada[\"modelo_mod\"] = df_marca_filtrada[\"Marca\"] + \" \" + df_marca_filtrada[\"Modelo\"]\n"
     ]
    }
   ],
   "source": [
    "df_marca_filtrada[\"modelo_mod\"] = df_marca_filtrada[\"Marca\"] + \" \" + df_marca_filtrada[\"Modelo\"]\n",
    "df_marca_filtrada = df_marca_filtrada[[\"Marca\", \"Modelo\", \"modelo_mod\", \"code_modelos_agrupados\"]]"
   ]
  },
  {
   "cell_type": "code",
   "execution_count": 22,
   "metadata": {},
   "outputs": [],
   "source": [
    "df_marca_filtrada.drop_duplicates(subset=[\"code_modelos_agrupados\"], inplace=True)"
   ]
  },
  {
   "cell_type": "code",
   "execution_count": 23,
   "metadata": {},
   "outputs": [
    {
     "data": {
      "text/html": [
       "<div>\n",
       "<style scoped>\n",
       "    .dataframe tbody tr th:only-of-type {\n",
       "        vertical-align: middle;\n",
       "    }\n",
       "\n",
       "    .dataframe tbody tr th {\n",
       "        vertical-align: top;\n",
       "    }\n",
       "\n",
       "    .dataframe thead th {\n",
       "        text-align: right;\n",
       "    }\n",
       "</style>\n",
       "<table border=\"1\" class=\"dataframe\">\n",
       "  <thead>\n",
       "    <tr style=\"text-align: right;\">\n",
       "      <th></th>\n",
       "      <th>Marca</th>\n",
       "      <th>Modelo</th>\n",
       "      <th>modelo_mod</th>\n",
       "      <th>code_modelos_agrupados</th>\n",
       "    </tr>\n",
       "  </thead>\n",
       "  <tbody>\n",
       "    <tr>\n",
       "      <th>360477</th>\n",
       "      <td>KTM</td>\n",
       "      <td>Duke 390 ABS</td>\n",
       "      <td>KTM Duke 390 ABS</td>\n",
       "      <td>MX707-ktm-duke-390-abs</td>\n",
       "    </tr>\n",
       "    <tr>\n",
       "      <th>360496</th>\n",
       "      <td>KTM</td>\n",
       "      <td>390 Adventure ABS</td>\n",
       "      <td>KTM 390 Adventure ABS</td>\n",
       "      <td>MX714-ktm-390-adventure-abs</td>\n",
       "    </tr>\n",
       "    <tr>\n",
       "      <th>360500</th>\n",
       "      <td>KTM</td>\n",
       "      <td>Duke 250</td>\n",
       "      <td>KTM Duke 250</td>\n",
       "      <td>MX708-ktm-duke-250</td>\n",
       "    </tr>\n",
       "    <tr>\n",
       "      <th>360531</th>\n",
       "      <td>KTM</td>\n",
       "      <td>RC 390 ABS</td>\n",
       "      <td>KTM RC 390 ABS</td>\n",
       "      <td>MX713-ktm-rc-390-abs</td>\n",
       "    </tr>\n",
       "    <tr>\n",
       "      <th>360550</th>\n",
       "      <td>KTM</td>\n",
       "      <td>Duke 200</td>\n",
       "      <td>KTM Duke 200</td>\n",
       "      <td>MX709-ktm-duke-200</td>\n",
       "    </tr>\n",
       "    <tr>\n",
       "      <th>360577</th>\n",
       "      <td>KTM</td>\n",
       "      <td>150 XC</td>\n",
       "      <td>KTM 150 XC</td>\n",
       "      <td>MX1235-ktm-150-xc-2023</td>\n",
       "    </tr>\n",
       "    <tr>\n",
       "      <th>360586</th>\n",
       "      <td>KTM</td>\n",
       "      <td>250 EXC</td>\n",
       "      <td>KTM 250 EXC</td>\n",
       "      <td>MX1217-ktm-250-exc-2023</td>\n",
       "    </tr>\n",
       "    <tr>\n",
       "      <th>360913</th>\n",
       "      <td>KTM</td>\n",
       "      <td>SX 125</td>\n",
       "      <td>KTM SX 125</td>\n",
       "      <td>MX1225-ktm-sx-125-2023</td>\n",
       "    </tr>\n",
       "    <tr>\n",
       "      <th>361041</th>\n",
       "      <td>KTM</td>\n",
       "      <td>1290 Super Adventure S</td>\n",
       "      <td>KTM 1290 Super Adventure S</td>\n",
       "      <td>MX1231-ktm-1290-super-adventure-s-2023</td>\n",
       "    </tr>\n",
       "    <tr>\n",
       "      <th>361050</th>\n",
       "      <td>KTM</td>\n",
       "      <td>1290 Super Duke R</td>\n",
       "      <td>KTM 1290 Super Duke R</td>\n",
       "      <td>MX1233-ktm-1290-super-duke-r-2023</td>\n",
       "    </tr>\n",
       "    <tr>\n",
       "      <th>361061</th>\n",
       "      <td>KTM</td>\n",
       "      <td>RC 200</td>\n",
       "      <td>KTM RC 200</td>\n",
       "      <td>MX710-ktm-rc-200</td>\n",
       "    </tr>\n",
       "    <tr>\n",
       "      <th>361283</th>\n",
       "      <td>KTM</td>\n",
       "      <td>250 SX-F</td>\n",
       "      <td>KTM 250 SX-F</td>\n",
       "      <td>MX1222-ktm-250-sx-f</td>\n",
       "    </tr>\n",
       "    <tr>\n",
       "      <th>361395</th>\n",
       "      <td>KTM</td>\n",
       "      <td>250 Adventure</td>\n",
       "      <td>KTM 250 Adventure</td>\n",
       "      <td>MX1200-ktm-250-adventure-2023</td>\n",
       "    </tr>\n",
       "  </tbody>\n",
       "</table>\n",
       "</div>"
      ],
      "text/plain": [
       "       Marca                  Modelo                  modelo_mod  \\\n",
       "360477   KTM            Duke 390 ABS            KTM Duke 390 ABS   \n",
       "360496   KTM       390 Adventure ABS       KTM 390 Adventure ABS   \n",
       "360500   KTM                Duke 250                KTM Duke 250   \n",
       "360531   KTM              RC 390 ABS              KTM RC 390 ABS   \n",
       "360550   KTM                Duke 200                KTM Duke 200   \n",
       "360577   KTM                  150 XC                  KTM 150 XC   \n",
       "360586   KTM                 250 EXC                 KTM 250 EXC   \n",
       "360913   KTM                  SX 125                  KTM SX 125   \n",
       "361041   KTM  1290 Super Adventure S  KTM 1290 Super Adventure S   \n",
       "361050   KTM       1290 Super Duke R       KTM 1290 Super Duke R   \n",
       "361061   KTM                  RC 200                  KTM RC 200   \n",
       "361283   KTM                250 SX-F                KTM 250 SX-F   \n",
       "361395   KTM           250 Adventure           KTM 250 Adventure   \n",
       "\n",
       "                        code_modelos_agrupados  \n",
       "360477                  MX707-ktm-duke-390-abs  \n",
       "360496             MX714-ktm-390-adventure-abs  \n",
       "360500                      MX708-ktm-duke-250  \n",
       "360531                    MX713-ktm-rc-390-abs  \n",
       "360550                      MX709-ktm-duke-200  \n",
       "360577                  MX1235-ktm-150-xc-2023  \n",
       "360586                 MX1217-ktm-250-exc-2023  \n",
       "360913                  MX1225-ktm-sx-125-2023  \n",
       "361041  MX1231-ktm-1290-super-adventure-s-2023  \n",
       "361050       MX1233-ktm-1290-super-duke-r-2023  \n",
       "361061                        MX710-ktm-rc-200  \n",
       "361283                     MX1222-ktm-250-sx-f  \n",
       "361395           MX1200-ktm-250-adventure-2023  "
      ]
     },
     "execution_count": 23,
     "metadata": {},
     "output_type": "execute_result"
    }
   ],
   "source": [
    "df_marca_filtrada"
   ]
  },
  {
   "cell_type": "code",
   "execution_count": 24,
   "metadata": {},
   "outputs": [
    {
     "data": {
      "text/plain": [
       "['KTM 790 Adventure',\n",
       " 'KTM 1290 Super Adventure S',\n",
       " 'KTM 390 Enduro R',\n",
       " 'KTM 85 SX 19/16',\n",
       " 'KTM 990 Duke',\n",
       " 'KTM 250 EXC',\n",
       " 'KTM 1390 Super Duke R EVO',\n",
       " 'KTM 890 Adventure',\n",
       " 'KTM 200 Duke Con ABS',\n",
       " 'KTM 390 Adventure SW',\n",
       " 'KTM 300 EXC',\n",
       " 'KTM 690 Enduro R',\n",
       " 'KTM 890 Adventure R Rally',\n",
       " 'KTM 390 SMC R',\n",
       " 'KTM 300 XC',\n",
       " 'KTM 200 Duke',\n",
       " 'KTM 790 Duke',\n",
       " 'KTM 65 SX',\n",
       " 'KTM Rc 8c',\n",
       " 'KTM 1290 Super Adventure R',\n",
       " 'KTM 50 SX',\n",
       " 'ktm 450 Rally Replica',\n",
       " 'KTM 690 SMC R',\n",
       " 'KTM 250 Duke',\n",
       " 'KTM 390 Adventure X',\n",
       " 'ktm 390 Adventure R',\n",
       " 'KTM 890 Adventure R',\n",
       " 'KTM 1390 Super Duke R',\n",
       " 'KTM Los Modelos De Motos De La Lista Son:',\n",
       " 'KTM 85 17/14',\n",
       " 'KTM 390 Duke',\n",
       " 'KTM 150 EXC',\n",
       " 'KTM 890 Duke GP',\n",
       " 'KTM 450 SMR',\n",
       " 'KTM 125 SMC R',\n",
       " 'ktm 890 Adventure R',\n",
       " 'KTM 250 SX']"
      ]
     },
     "execution_count": 24,
     "metadata": {},
     "output_type": "execute_result"
    }
   ],
   "source": [
    "lista_modelos_ordenados"
   ]
  },
  {
   "cell_type": "code",
   "execution_count": 27,
   "metadata": {},
   "outputs": [
    {
     "name": "stdout",
     "output_type": "stream",
     "text": [
      "Contenido exportado a KTM.txt\n"
     ]
    }
   ],
   "source": [
    "# Exportar el contenido a un archivo txt\n",
    "with open(f\"pages/{nombre_marca}/{nombre_marca}.txt\", \"w\", encoding=\"utf-8\") as archivo:\n",
    "    # Convertir la lista a string con saltos de línea\n",
    "    contenido = '\\n'.join(lista_modelos_ordenados)\n",
    "    archivo.write(contenido)\n",
    "print(f\"Contenido exportado a {nombre_marca}.txt\")"
   ]
  },
  {
   "cell_type": "markdown",
   "metadata": {},
   "source": [
    "### Verificar con IA"
   ]
  },
  {
   "cell_type": "code",
   "execution_count": null,
   "metadata": {},
   "outputs": [],
   "source": []
  },
  {
   "cell_type": "code",
   "execution_count": null,
   "metadata": {},
   "outputs": [],
   "source": []
  },
  {
   "cell_type": "code",
   "execution_count": null,
   "metadata": {},
   "outputs": [],
   "source": []
  }
 ],
 "metadata": {
  "kernelspec": {
   "display_name": "venv",
   "language": "python",
   "name": "python3"
  },
  "language_info": {
   "codemirror_mode": {
    "name": "ipython",
    "version": 3
   },
   "file_extension": ".py",
   "mimetype": "text/x-python",
   "name": "python",
   "nbconvert_exporter": "python",
   "pygments_lexer": "ipython3",
   "version": "3.11.0"
  }
 },
 "nbformat": 4,
 "nbformat_minor": 2
}
