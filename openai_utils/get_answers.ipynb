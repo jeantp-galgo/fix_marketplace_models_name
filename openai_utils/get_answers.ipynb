{
 "cells": [
  {
   "cell_type": "code",
   "execution_count": 16,
   "metadata": {},
   "outputs": [],
   "source": [
    "from openai import OpenAI # Conectarse al cliente de OpenAI y usar GPT\n",
    "\n",
    "from dotenv import load_dotenv\n",
    "import os\n",
    "load_dotenv()\n",
    "\n",
    "client = OpenAI(\n",
    "    api_key=os.getenv(\"OPENAI_KEY\")\n",
    ")"
   ]
  },
  {
   "cell_type": "code",
   "execution_count": 17,
   "metadata": {},
   "outputs": [],
   "source": [
    "def obtener_respuesta(pregunta, tokens=150):\n",
    "    try:\n",
    "        # Realiza la solicitud a la API de OpenAI utilizando la nueva interfaz\n",
    "        response = client.chat.completions.create(\n",
    "\n",
    "            model=\"gpt-4\",  # Asegúrate de usar el modelo correcto\n",
    "            messages=[\n",
    "                {\"role\": \"system\", \"content\": \"Eres un asistente que sabe de motos y autos.\"},\n",
    "                {\"role\": \"user\", \"content\": pregunta}\n",
    "            ],\n",
    "            max_tokens=tokens  # Ajusta el número de tokens según tus necesidades\n",
    "        )\n",
    "\n",
    "        respuesta = response.choices[0].message.content\n",
    "        return {\"respuesta\": respuesta}\n",
    "    except Exception as e:\n",
    "        return {\"error\": f\"Error al obtener respuesta: {e}\"}"
   ]
  },
  {
   "cell_type": "code",
   "execution_count": 18,
   "metadata": {},
   "outputs": [
    {
     "name": "stdout",
     "output_type": "stream",
     "text": [
      "{'respuesta': 'Naked'}\n"
     ]
    }
   ],
   "source": [
    "\n",
    "marca = \"Honda\"\n",
    "modelo = \"CB 650R\"\n",
    "\n",
    "tipos_motos = [\n",
    "    \"Scooter\",\n",
    "    \"Naked\",\n",
    "    \"Trail\",\n",
    "    \"Racing\",\n",
    "    \"Multipropósito\",\n",
    "    \"Carga\",\n",
    "    \"Urbana\",\n",
    "    \"ATV\",\n",
    "    \"Cuatrimoto\",\n",
    "    \"Chopper\",\n",
    "    \"Eléctrica\",\n",
    "    \"Enduro\",\n",
    "    \"Deportiva\",\n",
    "    \"Todo Terreno\",\n",
    "    \"Pistera\",\n",
    "    \"Doble Propósito\",\n",
    "    \"Trabajo\",\n",
    "    \"Motoneta\",\n",
    "    \"Carguero\",\n",
    "    \"Lineal\",\n",
    "    \"Touring\",\n",
    "    \"Automática\",\n",
    "    \"Semiautomática\",\n",
    "    \"Trimoto\",\n",
    "    \"Café Racer\",\n",
    "    \"Patineta Eléctrica\"\n",
    "]\n",
    "\n",
    "\n",
    "# Ejemplo de uso\n",
    "pregunta = f\"\"\"\n",
    "Necesito saber el tipo de moto para el siguiente producto: {marca} {modelo}. Ten en cuenta que los tipos disponibles son: {tipos_motos} y solamente puedes elegir uno de ellos. Por favor, responde en el siguiente formato JSON:\n",
    "\n",
    "{{\n",
    "    \"tipo_moto\": \"Aquí va el tipo de moto\n",
    "}}\n",
    "\n",
    "\"\"\"\n",
    "respuesta = obtener_respuesta(pregunta)\n",
    "print(respuesta)\n",
    "\n"
   ]
  },
  {
   "cell_type": "code",
   "execution_count": null,
   "metadata": {},
   "outputs": [
    {
     "name": "stdout",
     "output_type": "stream",
     "text": [
      "{'Descripcion Marketplace': 'Descubre la excelencia en ingeniería de dos ruedas con la Honda CB 650R. Esta moto vistosa, con su diseño Neo-Sports Café, te pondrá a la cabeza en estilo y rendimiento. Su motor de 4 cilindros y 650cc, sorprendentemente suave y potente, te proporciona un viaje emocionante en todo momento. Sentirás una maniobrabilidad superior con su cuadro de acero ligero y suspensiones ajustables, y su frenado mejorado te dará una sensación de seguridad sin igual. Incluye luces LED y un panel de control digital para mantenerte informado de tu viaje. Además, la Honda CB 650R viene con control de par seleccionable de Honda (HSTC) que ayuda a prevenir el deslizamiento de la rueda trasera. Una verdadera joya para los amantes de las dos ruedas.', 'Descripcion SEO': 'Honda CB 650R Neo-Sports Café, una moto potente de 4 cilindros con 650cc. Maniobrabilidad superior, seguridad en frenado, iluminación LED, panel digital y control de par.'}\n"
     ]
    }
   ],
   "source": [
    "# ... existing code ...\n",
    "\n",
    "# Modificación del prompt para obtener una respuesta estructurada\n",
    "pregunta = f\"\"\"\n",
    "Necesito una descripción para marketplace con un mínimo de 500 caracteres y un máximo de 700 caracteres y una descripción SEO con un máximo de 300 caracteres para el siguiente producto: {marca} {modelo}.\n",
    "Por favor, responde en el siguiente formato JSON:\n",
    "{{\n",
    "    \"Descripcion Marketplace\": \"Aquí va la descripción para el marketplace.\",\n",
    "    \"Descripcion SEO\": \"Aquí va la descripción SEO.\"\n",
    "}}\n",
    "\"\"\"\n",
    "\n",
    "respuesta = obtener_respuesta(pregunta, 1100)\n",
    "\n",
    "# Procesar la respuesta para convertirla en un objeto JSON\n",
    "import json\n",
    "\n",
    "try:\n",
    "    respuesta_json = json.loads(respuesta['respuesta'])\n",
    "except json.JSONDecodeError as e:\n",
    "    print(f\"Error al decodificar JSON: {e}\")"
   ]
  },
  {
   "cell_type": "code",
   "execution_count": 20,
   "metadata": {},
   "outputs": [
    {
     "data": {
      "text/plain": [
       "{'Descripcion Marketplace': 'Descubre la excelencia en ingeniería de dos ruedas con la Honda CB 650R. Esta moto vistosa, con su diseño Neo-Sports Café, te pondrá a la cabeza en estilo y rendimiento. Su motor de 4 cilindros y 650cc, sorprendentemente suave y potente, te proporciona un viaje emocionante en todo momento. Sentirás una maniobrabilidad superior con su cuadro de acero ligero y suspensiones ajustables, y su frenado mejorado te dará una sensación de seguridad sin igual. Incluye luces LED y un panel de control digital para mantenerte informado de tu viaje. Además, la Honda CB 650R viene con control de par seleccionable de Honda (HSTC) que ayuda a prevenir el deslizamiento de la rueda trasera. Una verdadera joya para los amantes de las dos ruedas.',\n",
       " 'Descripcion SEO': 'Honda CB 650R Neo-Sports Café, una moto potente de 4 cilindros con 650cc. Maniobrabilidad superior, seguridad en frenado, iluminación LED, panel digital y control de par.'}"
      ]
     },
     "execution_count": 20,
     "metadata": {},
     "output_type": "execute_result"
    }
   ],
   "source": [
    "respuesta_json"
   ]
  },
  {
   "cell_type": "code",
   "execution_count": 1,
   "metadata": {},
   "outputs": [],
   "source": [
    "from get_answers import get_vehicle_type\n",
    "from get_answers import get_marketplace_descriptions"
   ]
  },
  {
   "cell_type": "code",
   "execution_count": 2,
   "metadata": {},
   "outputs": [
    {
     "data": {
      "text/plain": [
       "{'tipo_moto': 'Naked'}"
      ]
     },
     "execution_count": 2,
     "metadata": {},
     "output_type": "execute_result"
    }
   ],
   "source": [
    "get_vehicle_type(\"Honda\", \"CB 650R\", \"moto\", \"MX\")"
   ]
  },
  {
   "cell_type": "code",
   "execution_count": 3,
   "metadata": {},
   "outputs": [
    {
     "data": {
      "text/plain": [
       "{'Descripcion Marketplace': 'Te presentamos la Honda CB 650R, una moto de estilo naked y sport que destaca por su diseño fresco y moderno. Equipada con un motor de cuatro cilindros, 649cc y una potencia de 94cv, esta moto te brinda un rendimiento excepcional tanto para la conducción en ciudad como en carretera. Añade una suspensión ajustable y frenos ABS para un mayor control y seguridad. La CB 650R incorpora un panel de instrumentos digital TFT a color con conectividad Bluetooth y faros LED. Su silla cómoda te permite largos recorridos con absoluta comodidad, mientras que su composición compacta y ligera la hacen fácil de maniobrar. Una moto perfecta para los apasionados del asfalto y la velocidad.',\n",
       " 'Descripcion SEO': 'Honda CB 650R: Moto naked sport, motor de 649cc, 94cv, con suspensión ajustable, frenos ABS, panel digital TFT, faros LED y asiento cómodo. Perfecta para ciudad y carretera.'}"
      ]
     },
     "execution_count": 3,
     "metadata": {},
     "output_type": "execute_result"
    }
   ],
   "source": [
    "get_marketplace_descriptions(\"Honda\", \"CB 650R\")"
   ]
  },
  {
   "cell_type": "code",
   "execution_count": null,
   "metadata": {},
   "outputs": [],
   "source": []
  }
 ],
 "metadata": {
  "kernelspec": {
   "display_name": "venv",
   "language": "python",
   "name": "python3"
  },
  "language_info": {
   "codemirror_mode": {
    "name": "ipython",
    "version": 3
   },
   "file_extension": ".py",
   "mimetype": "text/x-python",
   "name": "python",
   "nbconvert_exporter": "python",
   "pygments_lexer": "ipython3",
   "version": "3.8.0"
  }
 },
 "nbformat": 4,
 "nbformat_minor": 2
}
