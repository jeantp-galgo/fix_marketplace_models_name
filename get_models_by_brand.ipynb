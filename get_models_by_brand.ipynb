{
 "cells": [
  {
   "cell_type": "code",
   "execution_count": 9,
   "metadata": {},
   "outputs": [],
   "source": [
    "# from scraping.app import quick_scrape\n",
    "from bs4 import BeautifulSoup"
   ]
  },
  {
   "cell_type": "markdown",
   "metadata": {},
   "source": [
    "### Marca para buscar datos"
   ]
  },
  {
   "cell_type": "code",
   "execution_count": 10,
   "metadata": {},
   "outputs": [],
   "source": [
    "nombre_marca = \"KTM\"\n",
    "pais = \"CO\""
   ]
  },
  {
   "cell_type": "markdown",
   "metadata": {},
   "source": [
    "### Leer el HTML con los modelos"
   ]
  },
  {
   "cell_type": "code",
   "execution_count": 11,
   "metadata": {},
   "outputs": [],
   "source": [
    "def leer_html(ruta_html):\n",
    "    \"\"\"Lee un archivo HTML y extrae solo el texto limpio, sin etiquetas.\"\"\"\n",
    "    try:\n",
    "        with open(ruta_html, 'r', encoding='utf-8') as archivo_html:\n",
    "            contenido_html = archivo_html.read()\n",
    "\n",
    "            # Parsear el HTML y extraer solo el texto\n",
    "            soup = BeautifulSoup(contenido_html, 'html.parser')\n",
    "            texto_limpio = soup.get_text(separator=\"\\n\", strip=True)  # Extraer texto con saltos de línea\n",
    "\n",
    "            return texto_limpio  # Devuelve el texto limpio\n",
    "    except FileNotFoundError:\n",
    "        print(f\"El archivo {ruta_html} no se encontró.\")\n",
    "        return None\n",
    "    except Exception as e:\n",
    "        print(f\"Ocurrió un error al leer el archivo HTML: {e}\")\n",
    "        return None"
   ]
  },
  {
   "cell_type": "code",
   "execution_count": 12,
   "metadata": {},
   "outputs": [
    {
     "data": {
      "text/plain": [
       "'Motocross\\nDISCOVER\\n4-tiempos\\n2025 KTM 250 SX-F ADAMO EDITION\\n2025 KTM 450 SX-F FACTORY EDITION\\n2025 KTM 250 SX-F FACTORY EDITION\\n2025 KTM 450 SX-F\\n2025 KTM 350 SX-F\\n2025 KTM 250 SX-F\\n2-tiempos\\n2025 KTM 300 SX\\n2025 KTM 250 SX\\n2025 KTM 150 SX\\n2025 KTM 125 SX\\n2025 KTM SX 85 19/16\\n2025 KTM 85 SX 17/14\\nParte eléctrica\\n2025 KTM SX-E 5\\n2025 KTM SX-E 3\\n2025 KTM SX-E 2\\n4-tiempos\\n2025 KTM 350 EXC-F CHAMPION EDITION\\n2025 KTM 500 EXC-F SIX DAYS\\n2025 KTM 450 EXC-F SIX DAYS\\n2025 KTM 350 EXC-F SIX DAYS\\n2025 KTM 250 EXC-F SIX DAYS\\n2025 KTM 500 EXC-F\\n2025 KTM 450 EXC-F\\n2025 KTM 350 EXC-F\\n2025 KTM 250 EXC-F\\n2-tiempos\\n2025 KTM 300 EXC CHAMPION EDITION\\n2025 KTM 250 EXC CHAMPION EDITION\\n2025 KTM 300 EXC HARDENDURO\\n2025 KTM 300 EXC SIX DAYS\\n2025 KTM 250 EXC SIX DAYS\\n2025 KTM 300 EXC\\n2025 KTM 250 EXC\\n2025 KTM 150 EXC\\n2025 KTM 125 XC-W\\nElectric\\nDISCOVER\\nKids Motocross\\n2025 KTM SX-E 5\\n2025 KTM SX-E 3\\n2025 KTM SX-E 2\\nDual Sport\\nDISCOVER\\n2025 KTM 390 Enduro R\\n2025 KTM 890 Adventure R\\n2025 KTM 390 Adventure R\\n2025 KTM 390 Adventure X\\n2024 KTM 1290 Super Adventure R\\n2024 KTM 1290 Super Adventure S\\n2024 KTM 890 Adventure\\n2024 KTM 390 ADVENTURE SW\\n2024 KTM 390 Adventure\\n2024 KTM 250 ADVENTURE\\n2024 KTM 690 ENDURO R\\nSports Tourer\\nDISCOVER\\n2024 KTM 1290 Super Duke GT\\nSupermoto\\nDISCOVER\\n2025 KTM 450 SMR\\n2025 KTM 390 SMC R\\n2024 KTM 690 SMC R\\n2025 KTM 1390 Super Duke R EVO\\n2025 KTM 390 Duke\\n2025 KTM 250 Duke\\n2025 KTM 200 Duke\\n2024 KTM 990 DUKE\\n2024 KTM 250 DUKE\\n2023 KTM 390 Duke\\n200 Duke con ABS 2023\\n2023 KTM 200 Duke\\nSupersport\\nDISCOVER\\n2024 KTM RC 390\\n2024 KTM RC 200\\nX-BOW\\nDISCOVER\\nX-BOW GT-XR 2023\\nX-Bow GTX 2020\\nX-Bow GT2 2020'"
      ]
     },
     "execution_count": 12,
     "metadata": {},
     "output_type": "execute_result"
    }
   ],
   "source": [
    "# Ruta del archivo HTML\n",
    "ruta = f\"C:\\\\Users\\\\JTRUJILLO\\\\Documents\\\\Galgo\\\\Scripts\\\\Otros\\\\homologar_modelos\\\\pages\\\\{nombre_marca}\\\\{pais}\\\\{nombre_marca}.html\"\n",
    "\n",
    "# Leer el HTML con los datos de los nombres de los modelos\n",
    "marca = leer_html(ruta)\n",
    "marca"
   ]
  },
  {
   "cell_type": "markdown",
   "metadata": {},
   "source": [
    "Exportarlo para verificar"
   ]
  },
  {
   "cell_type": "code",
   "execution_count": 13,
   "metadata": {},
   "outputs": [
    {
     "name": "stdout",
     "output_type": "stream",
     "text": [
      "Contenido exportado a KTM.txt\n"
     ]
    }
   ],
   "source": [
    "# Exportar el contenido a un archivo txt\n",
    "with open(f\"pages/{nombre_marca}/{pais}/{nombre_marca}.txt\", \"w\", encoding=\"utf-8\") as archivo:\n",
    "    archivo.write(marca)\n",
    "print(f\"Contenido exportado a {nombre_marca}.txt\")\n",
    "\n",
    "# Leer el contenido del archivo txt\n",
    "with open(f\"pages/{nombre_marca}/{pais}/{nombre_marca}.txt\", \"r\", encoding=\"utf-8\") as archivo:\n",
    "    marca = archivo.read()"
   ]
  },
  {
   "cell_type": "code",
   "execution_count": 14,
   "metadata": {},
   "outputs": [
    {
     "data": {
      "text/plain": [
       "'Motocross\\nDISCOVER\\n4-tiempos\\n2025 KTM 250 SX-F ADAMO EDITION\\n2025 KTM 450 SX-F FACTORY EDITION\\n2025 KTM 250 SX-F FACTORY EDITION\\n2025 KTM 450 SX-F\\n2025 KTM 350 SX-F\\n2025 KTM 250 SX-F\\n2-tiempos\\n2025 KTM 300 SX\\n2025 KTM 250 SX\\n2025 KTM 150 SX\\n2025 KTM 125 SX\\n2025 KTM SX 85 19/16\\n2025 KTM 85 SX 17/14\\nParte eléctrica\\n2025 KTM SX-E 5\\n2025 KTM SX-E 3\\n2025 KTM SX-E 2\\n4-tiempos\\n2025 KTM 350 EXC-F CHAMPION EDITION\\n2025 KTM 500 EXC-F SIX DAYS\\n2025 KTM 450 EXC-F SIX DAYS\\n2025 KTM 350 EXC-F SIX DAYS\\n2025 KTM 250 EXC-F SIX DAYS\\n2025 KTM 500 EXC-F\\n2025 KTM 450 EXC-F\\n2025 KTM 350 EXC-F\\n2025 KTM 250 EXC-F\\n2-tiempos\\n2025 KTM 300 EXC CHAMPION EDITION\\n2025 KTM 250 EXC CHAMPION EDITION\\n2025 KTM 300 EXC HARDENDURO\\n2025 KTM 300 EXC SIX DAYS\\n2025 KTM 250 EXC SIX DAYS\\n2025 KTM 300 EXC\\n2025 KTM 250 EXC\\n2025 KTM 150 EXC\\n2025 KTM 125 XC-W\\nElectric\\nDISCOVER\\nKids Motocross\\n2025 KTM SX-E 5\\n2025 KTM SX-E 3\\n2025 KTM SX-E 2\\nDual Sport\\nDISCOVER\\n2025 KTM 390 Enduro R\\n2025 KTM 890 Adventure R\\n2025 KTM 390 Adventure R\\n2025 KTM 390 Adventure X\\n2024 KTM 1290 Super Adventure R\\n2024 KTM 1290 Super Adventure S\\n2024 KTM 890 Adventure\\n2024 KTM 390 ADVENTURE SW\\n2024 KTM 390 Adventure\\n2024 KTM 250 ADVENTURE\\n2024 KTM 690 ENDURO R\\nSports Tourer\\nDISCOVER\\n2024 KTM 1290 Super Duke GT\\nSupermoto\\nDISCOVER\\n2025 KTM 450 SMR\\n2025 KTM 390 SMC R\\n2024 KTM 690 SMC R\\n2025 KTM 1390 Super Duke R EVO\\n2025 KTM 390 Duke\\n2025 KTM 250 Duke\\n2025 KTM 200 Duke\\n2024 KTM 990 DUKE\\n2024 KTM 250 DUKE\\n2023 KTM 390 Duke\\n200 Duke con ABS 2023\\n2023 KTM 200 Duke\\nSupersport\\nDISCOVER\\n2024 KTM RC 390\\n2024 KTM RC 200\\nX-BOW\\nDISCOVER\\nX-BOW GT-XR 2023\\nX-Bow GTX 2020\\nX-Bow GT2 2020'"
      ]
     },
     "execution_count": 14,
     "metadata": {},
     "output_type": "execute_result"
    }
   ],
   "source": [
    "marca"
   ]
  },
  {
   "cell_type": "markdown",
   "metadata": {},
   "source": [
    "### Eliminar no-modelos"
   ]
  },
  {
   "cell_type": "code",
   "execution_count": 15,
   "metadata": {},
   "outputs": [],
   "source": [
    "from openai_utils.templates.gpt_questions import obtener_respuesta\n",
    "\n",
    "# Modificación del prompt para obtener una respuesta estructurada\n",
    "pregunta = f\"\"\"\n",
    "Necesito que de la siguiente lista, me retornes los que son modelos de motos. Texto descriptivo no lo elijas.\n",
    "La lista es la siguiente:\n",
    "{marca}\n",
    "\"\"\"\n",
    "\n",
    "respuesta_ia = obtener_respuesta(pregunta, 500)"
   ]
  },
  {
   "cell_type": "markdown",
   "metadata": {},
   "source": [
    "Extraer la respuesta dentro de 'respuesta'"
   ]
  },
  {
   "cell_type": "code",
   "execution_count": 16,
   "metadata": {},
   "outputs": [
    {
     "data": {
      "text/plain": [
       "'Los modelos de motos de la lista son:\\n\\n- 2025 KTM 250 SX-F ADAMO EDITION\\n- 2025 KTM 450 SX-F FACTORY EDITION\\n- 2025 KTM 250 SX-F FACTORY EDITION\\n- 2025 KTM 450 SX-F\\n- 2025 KTM 350 SX-F\\n- 2025 KTM 250 SX-F\\n- 2025 KTM 300 SX\\n- 2025 KTM 250 SX\\n- 2025 KTM 150 SX\\n- 2025 KTM 125 SX\\n- 2025 KTM SX 85 19/16\\n- 2025 KTM 85 SX 17/14\\n- 2025 KTM SX-E 5\\n- 2025 KTM SX-E 3\\n- 2025 KTM SX-E 2\\n- 2025 KTM 350 EXC-F CHAMPION EDITION\\n- 2025 KTM 500 EXC-F SIX DAYS\\n- 2025 KTM 450 EXC-F SIX DAYS\\n- 2025 KTM 350 EXC-F SIX DAYS\\n- 2025 KTM 250 EXC-F SIX DAYS\\n- 2025 KTM 500 EXC-F\\n- 2025 KTM 450 EXC-F\\n- 2025 KTM 350 EXC-F\\n- 2025 KTM 250 EXC-F\\n- 2025 KTM 300 EXC CHAMPION EDITION\\n- 2025 KTM 250 EXC CHAMPION EDITION\\n- 2025 KTM 300 EXC HARDENDURO\\n- 2025 KTM 300 EXC SIX DAYS\\n- 2025 KTM 250 EXC SIX DAYS\\n- 2025 KTM 300 EXC\\n- 2025 KTM 250 EXC\\n- 2025 KTM 150 EXC\\n- 2025 KTM 125 XC-W\\n- 2025 KTM SX-E 5\\n- 2025 KTM SX-E 3\\n- 2025 KTM SX-E 2\\n- 2025 KTM 390 Enduro R\\n- 2025 KTM 890 Adventure R\\n- 2025 KTM 390 Adventure R\\n- 2025 K'"
      ]
     },
     "execution_count": 16,
     "metadata": {},
     "output_type": "execute_result"
    }
   ],
   "source": [
    "texto_modelos_desordenados = respuesta_ia['respuesta']\n",
    "texto_modelos_desordenados"
   ]
  },
  {
   "cell_type": "markdown",
   "metadata": {},
   "source": [
    "### Procesar lista de modelos identificados"
   ]
  },
  {
   "cell_type": "code",
   "execution_count": 17,
   "metadata": {},
   "outputs": [],
   "source": [
    "def get_modelos_from_text(texto_modelos_desordenados: str, nombre_marca: str) -> list[str]:\n",
    "    # Convertir el texto de marca a una lista de modelos\n",
    "    modelos_marca = texto_modelos_desordenados.split('\\n')\n",
    "\n",
    "    # Filtrar elementos vacíos y limpiar la lista\n",
    "    modelos_limpios = [modelo.strip() for modelo in modelos_marca if modelo.strip()]\n",
    "\n",
    "    # Filtrar años que empiecen por 2000 (4 dígitos) y eliminar años del texto\n",
    "    import re\n",
    "    modelos_sin_anos = []\n",
    "    for modelo in modelos_limpios:\n",
    "        # Eliminar años de 4 dígitos que empiecen con 20\n",
    "        modelo_limpio = re.sub(r'\\b20\\d{2}\\b', '', modelo).strip()\n",
    "        # Solo agregar si no es solo un año de 4 dígitos\n",
    "        if not (len(modelo) == 4 and modelo.startswith('20')):\n",
    "            if modelo_limpio:  # Solo agregar si no queda vacío después de limpiar\n",
    "                # Eliminar guiones al inicio y espacios extra\n",
    "                modelo_final = re.sub(r'^-\\s*', '', modelo_limpio).strip()\n",
    "                if modelo_final:  # Solo agregar si no queda vacío después de limpiar\n",
    "                    # Verificar si el modelo ya contiene el nombre de la marca\n",
    "                    if nombre_marca.upper() not in modelo_final.upper():\n",
    "                        # Agregar el nombre de la marca al inicio si no lo tiene\n",
    "                        modelo_con_marca = f\"{nombre_marca} {modelo_final}\"\n",
    "                        modelos_sin_anos.append(modelo_con_marca)\n",
    "                    else:\n",
    "                        # Si ya tiene el nombre de la marca, agregarlo tal como está\n",
    "                        modelos_sin_anos.append(modelo_final)\n",
    "\n",
    "    # Primero agregar la marca a todos los modelos que no la tengan\n",
    "    modelos_con_marca = []\n",
    "    for modelo in modelos_sin_anos:\n",
    "        if nombre_marca.upper() not in modelo.upper():\n",
    "            modelo_con_marca = f\"{nombre_marca} {modelo}\"\n",
    "            modelos_con_marca.append(modelo_con_marca)\n",
    "        else:\n",
    "            modelos_con_marca.append(modelo)\n",
    "\n",
    "    # Función para limpiar el modelo preservando el formato original\n",
    "    def limpiar_modelo(texto: str) -> str:\n",
    "        # Solo hacer limpieza básica sin cambiar mayúsculas/minúsculas\n",
    "\n",
    "        # Eliminar espacios extra\n",
    "        texto = re.sub(r'\\s+', ' ', texto).strip()\n",
    "\n",
    "        # Eliminar caracteres especiales al inicio/final\n",
    "        texto = re.sub(r'^[-\\s]+|[-\\s]+$', '', texto)\n",
    "\n",
    "        # Corregir solo casos obvios donde la marca esté duplicada\n",
    "        palabras = texto.split()\n",
    "        if len(palabras) > 1 and palabras[0].upper() == palabras[1].upper() == nombre_marca.upper():\n",
    "            # Remover marca duplicada\n",
    "            texto = ' '.join(palabras[1:])\n",
    "\n",
    "        return texto\n",
    "\n",
    "    # Aplicar solo limpieza básica, preservando formato original\n",
    "    modelos_limpios_final = [limpiar_modelo(modelo) for modelo in modelos_con_marca]\n",
    "\n",
    "    # Eliminar duplicados y elementos vacíos\n",
    "    modelos_finales = [modelo for modelo in list(set(modelos_limpios_final)) if modelo.strip()]\n",
    "\n",
    "    return modelos_finales"
   ]
  },
  {
   "cell_type": "markdown",
   "metadata": {},
   "source": [
    "Ejecutar procesamiento de nombre de modelos"
   ]
  },
  {
   "cell_type": "code",
   "execution_count": 18,
   "metadata": {},
   "outputs": [
    {
     "data": {
      "text/plain": [
       "['KTM 250 EXC-F',\n",
       " 'KTM 250 EXC CHAMPION EDITION',\n",
       " 'KTM 125 XC-W',\n",
       " 'KTM K',\n",
       " 'KTM SX-E 3',\n",
       " 'KTM 300 EXC CHAMPION EDITION',\n",
       " 'KTM 250 SX-F FACTORY EDITION',\n",
       " 'KTM 250 EXC SIX DAYS',\n",
       " 'KTM SX-E 5',\n",
       " 'KTM 450 EXC-F SIX DAYS',\n",
       " 'KTM 450 SX-F',\n",
       " 'KTM 350 SX-F',\n",
       " 'KTM SX 85 19/16',\n",
       " 'KTM 150 SX',\n",
       " 'KTM 350 EXC-F CHAMPION EDITION',\n",
       " 'KTM 250 SX-F ADAMO EDITION',\n",
       " 'KTM 85 SX 17/14',\n",
       " 'KTM 300 EXC',\n",
       " 'KTM 300 EXC HARDENDURO',\n",
       " 'KTM 150 EXC',\n",
       " 'KTM 390 Adventure R',\n",
       " 'KTM 350 EXC-F SIX DAYS',\n",
       " 'KTM 250 EXC',\n",
       " 'KTM 450 EXC-F',\n",
       " 'KTM 300 EXC SIX DAYS',\n",
       " 'KTM 500 EXC-F',\n",
       " 'KTM 890 Adventure R',\n",
       " 'KTM 250 SX',\n",
       " 'KTM 250 EXC-F SIX DAYS',\n",
       " 'KTM 390 Enduro R',\n",
       " 'KTM Los modelos de motos de la lista son:',\n",
       " 'KTM 450 SX-F FACTORY EDITION',\n",
       " 'KTM 250 SX-F',\n",
       " 'KTM 500 EXC-F SIX DAYS',\n",
       " 'KTM 125 SX',\n",
       " 'KTM 350 EXC-F',\n",
       " 'KTM SX-E 2',\n",
       " 'KTM 300 SX']"
      ]
     },
     "execution_count": 18,
     "metadata": {},
     "output_type": "execute_result"
    }
   ],
   "source": [
    "lista_modelos_ordenados = get_modelos_from_text(texto_modelos_desordenados, nombre_marca)\n",
    "lista_modelos_ordenados"
   ]
  },
  {
   "cell_type": "markdown",
   "metadata": {},
   "source": [
    "### Exportar y validar la lista de modelos procesados"
   ]
  },
  {
   "cell_type": "code",
   "execution_count": 19,
   "metadata": {},
   "outputs": [
    {
     "name": "stdout",
     "output_type": "stream",
     "text": [
      "Contenido exportado a KTM.txt ordenado alfabéticamente\n"
     ]
    }
   ],
   "source": [
    "# Exportar el contenido a un archivo txt ordenado alfabéticamente\n",
    "with open(f\"pages/{nombre_marca}/{pais}/{nombre_marca}.txt\", \"w\", encoding=\"utf-8\") as archivo:\n",
    "    # Ordenar la lista alfabéticamente y convertir a string con saltos de línea\n",
    "    lista_ordenada = sorted(lista_modelos_ordenados)\n",
    "    contenido = '\\n'.join(lista_ordenada)\n",
    "    archivo.write(contenido)\n",
    "print(f\"Contenido exportado a {nombre_marca}.txt ordenado alfabéticamente\")"
   ]
  },
  {
   "cell_type": "code",
   "execution_count": null,
   "metadata": {},
   "outputs": [],
   "source": []
  },
  {
   "cell_type": "code",
   "execution_count": null,
   "metadata": {},
   "outputs": [],
   "source": [
    "# def get_modelos_from_text(texto_modelos_desordenados: str, nombre_marca: str) -> list[str]:\n",
    "#     # Convertir el texto de marca a una lista de modelos\n",
    "#     modelos_marca = texto_modelos_desordenados.split('\\n')\n",
    "\n",
    "#     # Filtrar elementos vacíos y limpiar la lista\n",
    "#     modelos_limpios = [modelo.strip() for modelo in modelos_marca if modelo.strip()]\n",
    "\n",
    "#     # Filtrar años que empiecen por 2000 (4 dígitos) y eliminar años del texto\n",
    "#     import re\n",
    "#     modelos_sin_anos = []\n",
    "#     for modelo in modelos_limpios:\n",
    "#         # Eliminar años de 4 dígitos que empiecen con 20\n",
    "#         modelo_limpio = re.sub(r'\\b20\\d{2}\\b', '', modelo).strip()\n",
    "#         # Solo agregar si no es solo un año de 4 dígitos\n",
    "#         if not (len(modelo) == 4 and modelo.startswith('20')):\n",
    "#             if modelo_limpio:  # Solo agregar si no queda vacío después de limpiar\n",
    "#                 # Eliminar guiones al inicio y espacios extra\n",
    "#                 modelo_final = re.sub(r'^-\\s*', '', modelo_limpio).strip()\n",
    "#                 if modelo_final:  # Solo agregar si no queda vacío después de limpiar\n",
    "#                     # Verificar si el modelo ya contiene el nombre de la marca\n",
    "#                     if nombre_marca.upper() not in modelo_final.upper():\n",
    "#                         # Agregar el nombre de la marca al inicio si no lo tiene\n",
    "#                         modelo_con_marca = f\"{nombre_marca} {modelo_final}\"\n",
    "#                         modelos_sin_anos.append(modelo_con_marca)\n",
    "#                     else:\n",
    "#                         # Si ya tiene el nombre de la marca, agregarlo tal como está\n",
    "#                         modelos_sin_anos.append(modelo_final)\n",
    "\n",
    "#     # Primero agregar la marca a todos los modelos que no la tengan\n",
    "#     modelos_con_marca = []\n",
    "#     for modelo in modelos_sin_anos:\n",
    "#         if nombre_marca.upper() not in modelo.upper():\n",
    "#             modelo_con_marca = f\"{nombre_marca} {modelo}\"\n",
    "#             modelos_con_marca.append(modelo_con_marca)\n",
    "#         else:\n",
    "#             modelos_con_marca.append(modelo)\n",
    "\n",
    "#     # Función para limpiar el modelo preservando el formato original\n",
    "#     def limpiar_modelo(texto: str) -> str:\n",
    "#         # Solo hacer limpieza básica sin cambiar mayúsculas/minúsculas\n",
    "\n",
    "#         # Eliminar espacios extra\n",
    "#         texto = re.sub(r'\\s+', ' ', texto).strip()\n",
    "\n",
    "#         # Eliminar caracteres especiales al inicio/final\n",
    "#         texto = re.sub(r'^[-\\s]+|[-\\s]+$', '', texto)\n",
    "\n",
    "#         # Corregir solo casos obvios donde la marca esté duplicada\n",
    "#         palabras = texto.split()\n",
    "#         if len(palabras) > 1 and palabras[0].upper() == palabras[1].upper() == nombre_marca.upper():\n",
    "#             # Remover marca duplicada\n",
    "#             texto = ' '.join(palabras[1:])\n",
    "\n",
    "#         return texto\n",
    "\n",
    "#     # Aplicar solo limpieza básica, preservando formato original\n",
    "#     modelos_limpios_final = [limpiar_modelo(modelo) for modelo in modelos_con_marca]\n",
    "\n",
    "#     # Eliminar duplicados y elementos vacíos\n",
    "#     modelos_finales = [modelo for modelo in list(set(modelos_limpios_final)) if modelo.strip()]\n",
    "\n",
    "#     return modelos_finales"
   ]
  },
  {
   "cell_type": "code",
   "execution_count": null,
   "metadata": {},
   "outputs": [],
   "source": []
  },
  {
   "cell_type": "code",
   "execution_count": null,
   "metadata": {},
   "outputs": [],
   "source": []
  }
 ],
 "metadata": {
  "kernelspec": {
   "display_name": "venv",
   "language": "python",
   "name": "python3"
  },
  "language_info": {
   "codemirror_mode": {
    "name": "ipython",
    "version": 3
   },
   "file_extension": ".py",
   "mimetype": "text/x-python",
   "name": "python",
   "nbconvert_exporter": "python",
   "pygments_lexer": "ipython3",
   "version": "3.11.0"
  }
 },
 "nbformat": 4,
 "nbformat_minor": 2
}
