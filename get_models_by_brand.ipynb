{
 "cells": [
  {
   "cell_type": "markdown",
   "metadata": {},
   "source": [
    "## Archivo inicial"
   ]
  },
  {
   "cell_type": "markdown",
   "metadata": {},
   "source": [
    "Este archivo busca extraer todos los nombres de los modelos de la página oficial de las marcas"
   ]
  },
  {
   "cell_type": "code",
   "execution_count": 1,
   "metadata": {},
   "outputs": [],
   "source": [
    "from utils.utils import *\n",
    "from utils.models_by_brand.utils import get_modelos_from_text"
   ]
  },
  {
   "cell_type": "markdown",
   "metadata": {},
   "source": [
    "### Marca para buscar datos"
   ]
  },
  {
   "cell_type": "code",
   "execution_count": 2,
   "metadata": {},
   "outputs": [],
   "source": [
    "nombre_marca = \"Yamaha\"\n",
    "pais = \"CO\""
   ]
  },
  {
   "cell_type": "code",
   "execution_count": 3,
   "metadata": {},
   "outputs": [],
   "source": [
    "# Ruta del archivo HTML\n",
    "ruta = f\"C:\\\\Users\\\\JTRUJILLO\\\\Documents\\\\Galgo\\\\Scripts\\\\Otros\\\\homologar_modelos\\\\pages\\\\{nombre_marca}\\\\{pais}\\\\{nombre_marca}.html\""
   ]
  },
  {
   "cell_type": "code",
   "execution_count": 4,
   "metadata": {},
   "outputs": [],
   "source": [
    "html_puro = leer_html_puro(ruta)"
   ]
  },
  {
   "cell_type": "code",
   "execution_count": 5,
   "metadata": {},
   "outputs": [
    {
     "data": {
      "text/plain": [
       "'<section class=\"container-fluid info_tax\">\\n    <div class=\"row\">\\n                <div class=\"col-xs-12 col-sm-12 col-md-12\">\\n<h2>Deportivas</h2>\\n</div>\\n                <div class=\"col-xs-12 col-sm-6 col-md-6 col-lg-3\">\\n<a href=\"https://www.incolmotos-yamaha.com.co/vehiculo/mt152024/23334/\">\\n    <div class=\"min-motorcycle min-tax\">\\n                                                                            <img src=\"https://www.incolmotos-yamaha.com.co/wp-content/uploads/2023/04/mt15_azul_mini.png\" alt=\"\">\\n                                        <div class=\"text-motorcycle\">\\n            <h2 class=\"name\">MT15</h2>\\n        </div>\\n        <span>VER MÁS</span>\\n    </div>\\n</a>\\n</div>\\n                <div class=\"col-xs-12 col-sm-6 col-md-6 col-lg-3\">\\n<a href=\"https://www.incolmotos-yamaha.com.co/vehiculo/mtn1000dx/21394/\">\\n    <div class=\"min-motorcycle min-tax\">\\n                                                                            <img src=\"https://www.incolmotos-yamaha.com.co/wp-content/uploads/2022/06/mt-10sp-mini.png\" alt=\"\">\\n                                        <div class=\"text-motorcycle\">\\n            <h2 class=\"name\">MT10 SP</h2>\\n        </div>\\n        <span>VER MÁS</span>\\n    </div>\\n</a>\\n</div>\\n                <div class=\"col-xs-12 col-sm-6 col-md-6 col-lg-3\">\\n<a href=\"https://www.incolmotos-yamaha.com.co/vehiculo/mt09a-sp/20329/\">\\n    <div class=\"min-motorcycle min-tax\">\\n                                                                            <img src=\"https://www.incolmotos-yamaha.com.co/wp-content/uploads/2022/04/Mt09_2025_SP_mini.jpg\" alt=\"\">\\n                                        <div class=\"text-motorcycle\">\\n            <h2 class=\"name\">MT09 SP</h2>\\n        </div>\\n        <span>VER MÁS</span>\\n    </div>\\n</a>\\n</div>\\n                <div class=\"col-xs-12 col-sm-6 col-md-6 col-lg-3\">\\n<a href=\"https://www.incolmotos-yamaha.com.co/vehiculo/mxt850d/17279/\">\\n    <div class=\"min-motorcycle min-tax\">\\n                                                                            <img src=\"https://www.incolmotos-yamaha.com.co/wp-content/uploads/2021/04/mini-niken.jpg\" alt=\"\">\\n                                        <div class=\"text-motorcycle\">\\n            <h2 class=\"name\">Niken GT</h2>\\n        </div>\\n        <span>VER MÁS</span>\\n    </div>\\n</a>\\n</div>\\n                <div class=\"col-xs-12 col-sm-6 col-md-6 col-lg-3\">\\n<a href=\"https://www.incolmotos-yamaha.com.co/vehiculo/mt07a/8225/\">\\n    <div class=\"min-motorcycle min-tax\">\\n                                                                            <img src=\"https://www.incolmotos-yamaha.com.co/wp-content/uploads/2019/05/mt07_gris_mini.png\" alt=\"\">\\n                                        <div class=\"text-motorcycle\">\\n            <h2 class=\"name\">MT07</h2>\\n        </div>\\n        <span>VER MÁS</span>\\n    </div>\\n</a>\\n</div>\\n                <div class=\"col-xs-12 col-sm-6 col-md-6 col-lg-3\">\\n<a href=\"https://www.incolmotos-yamaha.com.co/vehiculo/mt09tracer-gt/7412/\">\\n    <div class=\"min-motorcycle min-tax\">\\n                                                                            <img src=\"https://www.incolmotos-yamaha.com.co/wp-content/uploads/2019/03/tracer_gris_mini.png\" alt=\"\">\\n                                        <div class=\"text-motorcycle\">\\n            <h2 class=\"name\">TRACER 9 GT</h2>\\n        </div>\\n        <span>VER MÁS</span>\\n    </div>\\n</a>\\n</div>\\n                <div class=\"col-xs-12 col-sm-6 col-md-6 col-lg-3\">\\n<a href=\"https://www.incolmotos-yamaha.com.co/vehiculo/mt03a/2349/\">\\n    <div class=\"min-motorcycle min-tax\">\\n                                                                            <img src=\"https://www.incolmotos-yamaha.com.co/wp-content/uploads/2018/03/mt03_2025_azul_mini.jpg\" alt=\"\">\\n                                        <div class=\"text-motorcycle\">\\n            <h2 class=\"name\">MT03</h2>\\n        </div>\\n        <span>VER MÁS</span>\\n    </div>\\n</a>\\n</div>\\n                <div class=\"col-xs-12 col-sm-6 col-md-6 col-lg-3\">\\n<a href=\"https://www.incolmotos-yamaha.com.co/vehiculo/mt09a/2317/\">\\n    <div class=\"min-motorcycle min-tax\">\\n                                                                            <img src=\"https://www.incolmotos-yamaha.com.co/wp-content/uploads/2018/03/Mt09_2024_cyan_mini.jpg\" alt=\"\">\\n                                        <div class=\"text-motorcycle\">\\n            <h2 class=\"name\">MT09</h2>\\n        </div>\\n        <span>VER MÁS</span>\\n    </div>\\n</a>\\n</div>\\n            </div>\\n                    <div class=\"row\">\\n                <div class=\"col-xs-12 col-sm-12 col-md-12\">\\n<h2>Motocross y Enduro</h2>\\n</div>\\n                <div class=\"col-xs-12 col-sm-6 col-md-6 col-lg-3\">\\n<a href=\"https://www.incolmotos-yamaha.com.co/vehiculo/yz450f-2/25031/\">\\n    <div class=\"min-motorcycle min-tax\">\\n                                                                            <img src=\"https://www.incolmotos-yamaha.com.co/wp-content/uploads/2023/11/yz450f_azul_mini.jpg\" alt=\"\">\\n                                        <div class=\"text-motorcycle\">\\n            <h2 class=\"name\">YZ450F</h2>\\n        </div>\\n        <span>VER MÁS</span>\\n    </div>\\n</a>\\n</div>\\n                <div class=\"col-xs-12 col-sm-6 col-md-6 col-lg-3\">\\n<a href=\"https://www.incolmotos-yamaha.com.co/vehiculo/pw50/14793/\">\\n    <div class=\"min-motorcycle min-tax\">\\n                                                                            <img src=\"https://www.incolmotos-yamaha.com.co/wp-content/uploads/2020/09/pw50-2023_mini.png\" alt=\"\">\\n                                        <div class=\"text-motorcycle\">\\n            <h2 class=\"name\">PW50</h2>\\n        </div>\\n        <span>VER MÁS</span>\\n    </div>\\n</a>\\n</div>\\n                <div class=\"col-xs-12 col-sm-6 col-md-6 col-lg-3\">\\n<a href=\"https://www.incolmotos-yamaha.com.co/vehiculo/wr450f/8418/\">\\n    <div class=\"min-motorcycle min-tax\">\\n                                                                            <img src=\"https://www.incolmotos-yamaha.com.co/wp-content/uploads/2019/05/wr450f_2025_mini.png\" alt=\"\">\\n                                        <div class=\"text-motorcycle\">\\n            <h2 class=\"name\">WR450F</h2>\\n        </div>\\n        <span>VER MÁS</span>\\n    </div>\\n</a>\\n</div>\\n                <div class=\"col-xs-12 col-sm-6 col-md-6 col-lg-3\">\\n<a href=\"https://www.incolmotos-yamaha.com.co/vehiculo/wr250f/8380/\">\\n    <div class=\"min-motorcycle min-tax\">\\n                                                                            <img src=\"https://www.incolmotos-yamaha.com.co/wp-content/uploads/2019/05/wr250F_mini.jpg\" alt=\"\">\\n                                        <div class=\"text-motorcycle\">\\n            <h2 class=\"name\">WR250F</h2>\\n        </div>\\n        <span>VER MÁS</span>\\n    </div>\\n</a>\\n</div>\\n                <div class=\"col-xs-12 col-sm-6 col-md-6 col-lg-3\">\\n<a href=\"https://www.incolmotos-yamaha.com.co/vehiculo/ttr50e/8374/\">\\n    <div class=\"min-motorcycle min-tax\">\\n                                                                            <img src=\"https://www.incolmotos-yamaha.com.co/wp-content/uploads/2019/05/ttr50_2025_mini.png\" alt=\"\">\\n                                        <div class=\"text-motorcycle\">\\n            <h2 class=\"name\">TTR50</h2>\\n        </div>\\n        <span>VER MÁS</span>\\n    </div>\\n</a>\\n</div>\\n                <div class=\"col-xs-12 col-sm-6 col-md-6 col-lg-3\">\\n<a href=\"https://www.incolmotos-yamaha.com.co/vehiculo/yz250x/7527/\">\\n    <div class=\"min-motorcycle min-tax\">\\n                                                                            <img src=\"https://www.incolmotos-yamaha.com.co/wp-content/uploads/2019/03/2025_YZ250X_DPBSE_USA_04_YY_09_mini.png\" alt=\"\">\\n                                        <div class=\"text-motorcycle\">\\n            <h2 class=\"name\">YZ250X</h2>\\n        </div>\\n        <span>VER MÁS</span>\\n    </div>\\n</a>\\n</div>\\n                <div class=\"col-xs-12 col-sm-6 col-md-6 col-lg-3\">\\n<a href=\"https://www.incolmotos-yamaha.com.co/vehiculo/yz65-2/6166/\">\\n    <div class=\"min-motorcycle min-tax\">\\n                                                                            <img src=\"https://www.incolmotos-yamaha.com.co/wp-content/uploads/2024/07/YZ65_2025_mini.jpg\" alt=\"\">\\n                                        <div class=\"text-motorcycle\">\\n            <h2 class=\"name\">YZ65</h2>\\n        </div>\\n        <span>VER MÁS</span>\\n    </div>\\n</a>\\n</div>\\n                <div class=\"col-xs-12 col-sm-6 col-md-6 col-lg-3\">\\n<a href=\"https://www.incolmotos-yamaha.com.co/vehiculo/ttr110e/2572/\">\\n    <div class=\"min-motorcycle min-tax\">\\n                                                                            <img src=\"https://www.incolmotos-yamaha.com.co/wp-content/uploads/2018/03/ttr110_2025.jpg\" alt=\"\">\\n                                        <div class=\"text-motorcycle\">\\n            <h2 class=\"name\">TTR110</h2>\\n        </div>\\n        <span>VER MÁS</span>\\n    </div>\\n</a>\\n</div>\\n                <div class=\"col-xs-12 col-sm-6 col-md-6 col-lg-3\">\\n<a href=\"https://www.incolmotos-yamaha.com.co/vehiculo/yz85lw/2565/\">\\n    <div class=\"min-motorcycle min-tax\">\\n                                                                            <img src=\"https://www.incolmotos-yamaha.com.co/wp-content/uploads/2024/07/YZ85_2025_mini.jpg\" alt=\"\">\\n                                        <div class=\"text-motorcycle\">\\n            <h2 class=\"name\">YZ85LW</h2>\\n        </div>\\n        <span>VER MÁS</span>\\n    </div>\\n</a>\\n</div>\\n                <div class=\"col-xs-12 col-sm-6 col-md-6 col-lg-3\">\\n<a href=\"https://www.incolmotos-yamaha.com.co/vehiculo/yz125/2558/\">\\n    <div class=\"min-motorcycle min-tax\">\\n                                                                            <img src=\"https://www.incolmotos-yamaha.com.co/wp-content/uploads/2018/03/2025_YZ125_DPBSE_USA_04_YY_03_mini.png\" alt=\"\">\\n                                        <div class=\"text-motorcycle\">\\n            <h2 class=\"name\">YZ125</h2>\\n        </div>\\n        <span>VER MÁS</span>\\n    </div>\\n</a>\\n</div>\\n                <div class=\"col-xs-12 col-sm-6 col-md-6 col-lg-3\">\\n<a href=\"https://www.incolmotos-yamaha.com.co/vehiculo/yz250/2539/\">\\n    <div class=\"min-motorcycle min-tax\">\\n                                                                            <img src=\"https://www.incolmotos-yamaha.com.co/wp-content/uploads/2018/03/2025_YZ250_DPBSE_USA_04_YY_03_mini.png\" alt=\"\">\\n                                        <div class=\"text-motorcycle\">\\n            <h2 class=\"name\">YZ250</h2>\\n        </div>\\n        <span>VER MÁS</span>\\n    </div>\\n</a>\\n</div>\\n                <div class=\"col-xs-12 col-sm-6 col-md-6 col-lg-3\">\\n<a href=\"https://www.incolmotos-yamaha.com.co/vehiculo/yz250f/2527/\">\\n    <div class=\"min-motorcycle min-tax\">\\n                                                                            <img src=\"https://www.incolmotos-yamaha.com.co/wp-content/uploads/2018/03/2025_YZ250F_DPBSE_USA_04_YY_09_mini.png\" alt=\"\">\\n                                        <div class=\"text-motorcycle\">\\n            <h2 class=\"name\">YZ250F</h2>\\n        </div>\\n        <span>VER MÁS</span>\\n    </div>\\n</a>\\n</div>\\n            </div>\\n                    <div class=\"row\">\\n                <div class=\"col-xs-12 col-sm-12 col-md-12\">\\n<h2>Automáticas y Semiautomáticas</h2>\\n</div>\\n                <div class=\"col-xs-12 col-sm-6 col-md-6 col-lg-3\">\\n<a href=\"https://www.incolmotos-yamaha.com.co/vehiculo/aerox-155/24621/\">\\n    <div class=\"min-motorcycle min-tax\">\\n                                                                            <img src=\"https://www.incolmotos-yamaha.com.co/wp-content/uploads/2023/09/aeroxNeon_mini.jpg\" alt=\"\">\\n                                        <div class=\"text-motorcycle\">\\n            <h2 class=\"name\">Aerox 155</h2>\\n        </div>\\n        <span>VER MÁS</span>\\n    </div>\\n</a>\\n</div>\\n                <div class=\"col-xs-12 col-sm-6 col-md-6 col-lg-3\">\\n<a href=\"https://www.incolmotos-yamaha.com.co/vehiculo/tmax/22567/\">\\n    <div class=\"min-motorcycle min-tax\">\\n                                                                            <img src=\"https://www.incolmotos-yamaha.com.co/wp-content/uploads/2023/02/tmaxTechmax_darkPetrol_mini.png\" alt=\"\">\\n                                        <div class=\"text-motorcycle\">\\n            <h2 class=\"name\">Tmax</h2>\\n        </div>\\n        <span>VER MÁS</span>\\n    </div>\\n</a>\\n</div>\\n                <div class=\"col-xs-12 col-sm-6 col-md-6 col-lg-3\">\\n<a href=\"https://www.incolmotos-yamaha.com.co/vehiculo/gpd155a/15956/\">\\n    <div class=\"min-motorcycle min-tax\">\\n                                                                            <img src=\"https://www.incolmotos-yamaha.com.co/wp-content/uploads/2021/03/nmax_plata_2026_mini.png\" alt=\"\">\\n                                        <div class=\"text-motorcycle\">\\n            <h2 class=\"name\">NMAX</h2>\\n        </div>\\n        <span>VER MÁS</span>\\n    </div>\\n</a>\\n</div>\\n                <div class=\"col-xs-12 col-sm-6 col-md-6 col-lg-3\">\\n<a href=\"https://www.incolmotos-yamaha.com.co/vehiculo/xmax300/9603/\">\\n    <div class=\"min-motorcycle min-tax\">\\n                                                                            <img src=\"https://www.incolmotos-yamaha.com.co/wp-content/uploads/2024/07/xmax_2025_gris_mini.jpg\" alt=\"\">\\n                                        <div class=\"text-motorcycle\">\\n            <h2 class=\"name\">Xmax 300</h2>\\n        </div>\\n        <span>VER MÁS</span>\\n    </div>\\n</a>\\n</div>\\n                <div class=\"col-xs-12 col-sm-6 col-md-6 col-lg-3\">\\n<a href=\"https://www.incolmotos-yamaha.com.co/vehiculo/t115fi/2105/\">\\n    <div class=\"min-motorcycle min-tax\">\\n                                                                            <img src=\"https://www.incolmotos-yamaha.com.co/wp-content/uploads/2018/03/crypton-fi.jpg\" alt=\"crypton-fi\">\\n                                        <div class=\"text-motorcycle\">\\n            <h2 class=\"name\">CRYPTON FI</h2>\\n        </div>\\n        <span>VER MÁS</span>\\n    </div>\\n</a>\\n</div>\\n            </div>\\n                    <div class=\"row\">\\n                <div class=\"col-xs-12 col-sm-12 col-md-12\">\\n<h2>Cuatrimotos</h2>\\n</div>\\n                <div class=\"col-xs-12 col-sm-6 col-md-6 col-lg-3\">\\n<a href=\"https://www.incolmotos-yamaha.com.co/vehiculo/yfm110r/25763/\">\\n    <div class=\"min-motorcycle min-tax\">\\n                                                                            <img src=\"https://www.incolmotos-yamaha.com.co/wp-content/uploads/2024/05/raptor110blue_mini.png\" alt=\"\">\\n                                        <div class=\"text-motorcycle\">\\n            <h2 class=\"name\">YFM110R</h2>\\n        </div>\\n        <span>VER MÁS</span>\\n    </div>\\n</a>\\n</div>\\n                <div class=\"col-xs-12 col-sm-6 col-md-6 col-lg-3\">\\n<a href=\"https://www.incolmotos-yamaha.com.co/vehiculo/kodiak-2/25024/\">\\n    <div class=\"min-motorcycle min-tax\">\\n                                                                            <img src=\"https://www.incolmotos-yamaha.com.co/wp-content/uploads/2023/11/kodiak_2024_mini-1.jpg\" alt=\"\">\\n                                        <div class=\"text-motorcycle\">\\n            <h2 class=\"name\">kodiak 450</h2>\\n        </div>\\n        <span>VER MÁS</span>\\n    </div>\\n</a>\\n</div>\\n                <div class=\"col-xs-12 col-sm-6 col-md-6 col-lg-3\">\\n<a href=\"https://www.incolmotos-yamaha.com.co/vehiculo/wolverine-rmax-4/19440/\">\\n    <div class=\"min-motorcycle min-tax\">\\n                                                                            <img src=\"https://www.incolmotos-yamaha.com.co/wp-content/uploads/2021/11/wolverineRmax4_mini.png\" alt=\"\">\\n                                        <div class=\"text-motorcycle\">\\n            <h2 class=\"name\">Wolverine RMAX 4</h2>\\n        </div>\\n        <span>VER MÁS</span>\\n    </div>\\n</a>\\n</div>\\n                <div class=\"col-xs-12 col-sm-6 col-md-6 col-lg-3\">\\n<a href=\"https://www.incolmotos-yamaha.com.co/vehiculo/wolverine/4286/\">\\n    <div class=\"min-motorcycle min-tax\">\\n                                                                            <img src=\"https://www.incolmotos-yamaha.com.co/wp-content/uploads/2018/10/wolverineRmax2_mini.png\" alt=\"\">\\n                                        <div class=\"text-motorcycle\">\\n            <h2 class=\"name\">Wolverine RMAX 2</h2>\\n        </div>\\n        <span>VER MÁS</span>\\n    </div>\\n</a>\\n</div>\\n                <div class=\"col-xs-12 col-sm-6 col-md-6 col-lg-3\">\\n<a href=\"https://www.incolmotos-yamaha.com.co/vehiculo/yfm700f/2636/\">\\n    <div class=\"min-motorcycle min-tax\">\\n                                                                            <img src=\"https://www.incolmotos-yamaha.com.co/wp-content/uploads/2018/03/grizzly_gris2024_mini.jpg\" alt=\"\">\\n                                        <div class=\"text-motorcycle\">\\n            <h2 class=\"name\">YFM700F</h2>\\n        </div>\\n        <span>VER MÁS</span>\\n    </div>\\n</a>\\n</div>\\n                <div class=\"col-xs-12 col-sm-6 col-md-6 col-lg-3\">\\n<a href=\"https://www.incolmotos-yamaha.com.co/vehiculo/yfm700r/2609/\">\\n    <div class=\"min-motorcycle min-tax\">\\n                                                                            <img src=\"https://www.incolmotos-yamaha.com.co/wp-content/uploads/2018/03/rapto7002025mini.jpg\" alt=\"\">\\n                                        <div class=\"text-motorcycle\">\\n            <h2 class=\"name\">YFM700R</h2>\\n        </div>\\n        <span>VER MÁS</span>\\n    </div>\\n</a>\\n</div>\\n            </div>\\n                    <div class=\"row\">\\n                <div class=\"col-xs-12 col-sm-12 col-md-12\">\\n<h2>Adventure</h2>\\n</div>\\n                <div class=\"col-xs-12 col-sm-6 col-md-6 col-lg-3\">\\n<a href=\"https://www.incolmotos-yamaha.com.co/vehiculo/xtz690/20500/\">\\n    <div class=\"min-motorcycle min-tax\">\\n                                                                            <img src=\"https://www.incolmotos-yamaha.com.co/wp-content/uploads/2022/04/t7Rally26Menu.jpg\" alt=\"\">\\n                                        <div class=\"text-motorcycle\">\\n            <h2 class=\"name\">Ténéré 700</h2>\\n        </div>\\n        <span>VER MÁS</span>\\n    </div>\\n</a>\\n</div>\\n                <div class=\"col-xs-12 col-sm-6 col-md-6 col-lg-3\">\\n<a href=\"https://www.incolmotos-yamaha.com.co/vehiculo/xt1200ze/11986/\">\\n    <div class=\"min-motorcycle min-tax\">\\n                                                                            <img src=\"https://www.incolmotos-yamaha.com.co/wp-content/uploads/2020/04/supertenere1200ze_mini.jpg\" alt=\"\">\\n                                        <div class=\"text-motorcycle\">\\n            <h2 class=\"name\">Super Teneré 1200ZE</h2>\\n        </div>\\n        <span>VER MÁS</span>\\n    </div>\\n</a>\\n</div>\\n            </div>\\n                    <div class=\"row\">\\n                <div class=\"col-xs-12 col-sm-12 col-md-12\">\\n<h2>Sport Heritage</h2>\\n</div>\\n                <div class=\"col-xs-12 col-sm-6 col-md-6 col-lg-3\">\\n<a href=\"https://www.incolmotos-yamaha.com.co/vehiculo/xsr900/11127/\">\\n    <div class=\"min-motorcycle min-tax\">\\n                                                                            <img src=\"https://www.incolmotos-yamaha.com.co/wp-content/uploads/2020/01/xsr900_2024_grisRojo_mini.jpg\" alt=\"\">\\n                                        <div class=\"text-motorcycle\">\\n            <h2 class=\"name\">XSR900</h2>\\n        </div>\\n        <span>VER MÁS</span>\\n    </div>\\n</a>\\n</div>\\n            </div>\\n                    <div class=\"row\">\\n                <div class=\"col-xs-12 col-sm-12 col-md-12\">\\n<h2>Super Deportivas</h2>\\n</div>\\n                <div class=\"col-xs-12 col-sm-6 col-md-6 col-lg-3\">\\n<a href=\"https://www.incolmotos-yamaha.com.co/vehiculo/yzfr15v4/26805/\">\\n    <div class=\"min-motorcycle min-tax\">\\n                                                                            <img src=\"https://www.incolmotos-yamaha.com.co/wp-content/uploads/2024/11/R15_2025_blue.jpg\" alt=\"\">\\n                                        <div class=\"text-motorcycle\">\\n            <h2 class=\"name\">R15v4</h2>\\n        </div>\\n        <span>VER MÁS</span>\\n    </div>\\n</a>\\n</div>\\n                <div class=\"col-xs-12 col-sm-6 col-md-6 col-lg-3\">\\n<a href=\"https://www.incolmotos-yamaha.com.co/vehiculo/yzfr1-2-3/23551/\">\\n    <div class=\"min-motorcycle min-tax\">\\n                                                                            <img src=\"https://www.incolmotos-yamaha.com.co/wp-content/uploads/2020/02/R1-2022-DESPLEGABLE.jpg\" alt=\"\">\\n                                        <div class=\"text-motorcycle\">\\n            <h2 class=\"name\">R1</h2>\\n        </div>\\n        <span>VER MÁS</span>\\n    </div>\\n</a>\\n</div>\\n            </div>\\n                    <div class=\"row\">\\n                <div class=\"col-xs-12 col-sm-12 col-md-12\">\\n<h2>Todoterreno</h2>\\n</div>\\n                <div class=\"col-xs-12 col-sm-6 col-md-6 col-lg-3\">\\n<a href=\"https://www.incolmotos-yamaha.com.co/vehiculo/xtz150/9869/\">\\n    <div class=\"min-motorcycle min-tax\">\\n                                                                            <img src=\"https://www.incolmotos-yamaha.com.co/wp-content/uploads/2019/09/xtz150_mini.png\" alt=\"\">\\n                                        <div class=\"text-motorcycle\">\\n            <h2 class=\"name\">XTZ150</h2>\\n        </div>\\n        <span>VER MÁS</span>\\n    </div>\\n</a>\\n</div>\\n                <div class=\"col-xs-12 col-sm-6 col-md-6 col-lg-3\">\\n<a href=\"https://www.incolmotos-yamaha.com.co/vehiculo/xtz250a/2266/\">\\n    <div class=\"min-motorcycle min-tax\">\\n                                                                            <img src=\"https://www.incolmotos-yamaha.com.co/wp-content/uploads/2018/03/xtz250_white_mini2.jpg\" alt=\"\">\\n                                        <div class=\"text-motorcycle\">\\n            <h2 class=\"name\">XTZ250</h2>\\n        </div>\\n        <span>VER MÁS</span>\\n    </div>\\n</a>\\n</div>\\n                <div class=\"col-xs-12 col-sm-6 col-md-6 col-lg-3\">\\n<a href=\"https://www.incolmotos-yamaha.com.co/vehiculo/xtz125/2245/\">\\n    <div class=\"min-motorcycle min-tax\">\\n                                                                            <img src=\"https://www.incolmotos-yamaha.com.co/wp-content/uploads/2018/03/xtz-125-mini.jpg\" alt=\"\">\\n                                        <div class=\"text-motorcycle\">\\n            <h2 class=\"name\">XTZ125</h2>\\n        </div>\\n        <span>VER MÁS</span>\\n    </div>\\n</a>\\n</div>\\n            </div>\\n                    <div class=\"row\">\\n                <div class=\"col-xs-12 col-sm-12 col-md-12\">\\n<h2>Urbanas y trabajo</h2>\\n</div>\\n                <div class=\"col-xs-12 col-sm-6 col-md-6 col-lg-3\">\\n<a href=\"https://www.incolmotos-yamaha.com.co/vehiculo/fz15v3/25294/\">\\n    <div class=\"min-motorcycle min-tax\">\\n                                                                            <img src=\"https://www.incolmotos-yamaha.com.co/wp-content/uploads/2024/02/Fz15v3_2024_mini.png\" alt=\"\">\\n                                        <div class=\"text-motorcycle\">\\n            <h2 class=\"name\">FZ VERSIÓN 3.0</h2>\\n        </div>\\n        <span>VER MÁS</span>\\n    </div>\\n</a>\\n</div>\\n                <div class=\"col-xs-12 col-sm-6 col-md-6 col-lg-3\">\\n<a href=\"https://www.incolmotos-yamaha.com.co/vehiculo/ybr125zr-2/15970/\">\\n    <div class=\"min-motorcycle min-tax\">\\n                                                                            <img src=\"https://www.incolmotos-yamaha.com.co/wp-content/uploads/2021/03/YBRZ125mmini2.jpg\" alt=\"\">\\n                                        <div class=\"text-motorcycle\">\\n            <h2 class=\"name\">YBRZ</h2>\\n        </div>\\n        <span>VER MÁS</span>\\n    </div>\\n</a>\\n</div>\\n                <div class=\"col-xs-12 col-sm-6 col-md-6 col-lg-3\">\\n<a href=\"https://www.incolmotos-yamaha.com.co/vehiculo/fzn250a/9260/\">\\n    <div class=\"min-motorcycle min-tax\">\\n                                                                            <img src=\"https://www.incolmotos-yamaha.com.co/wp-content/uploads/2019/08/mini3_fz25.jpg\" alt=\"\">\\n                                        <div class=\"text-motorcycle\">\\n            <h2 class=\"name\">FZ25 ABS</h2>\\n        </div>\\n        <span>VER MÁS</span>\\n    </div>\\n</a>\\n</div>\\n                <div class=\"col-xs-12 col-sm-6 col-md-6 col-lg-3\">\\n<a href=\"https://www.incolmotos-yamaha.com.co/vehiculo/ycz110/4205/\">\\n    <div class=\"min-motorcycle min-tax\">\\n                                                                            <img src=\"https://www.incolmotos-yamaha.com.co/wp-content/uploads/2021/04/ycz110_2024_mini-1.png\" alt=\"\">\\n                                        <div class=\"text-motorcycle\">\\n            <h2 class=\"name\">YCZ</h2>\\n        </div>\\n        <span>VER MÁS</span>\\n    </div>\\n</a>\\n</div>\\n                <div class=\"col-xs-12 col-sm-6 col-md-6 col-lg-3\">\\n<a href=\"https://www.incolmotos-yamaha.com.co/vehiculo/sz15rr-3/2197/\">\\n    <div class=\"min-motorcycle min-tax\">\\n                                                                            <img src=\"https://www.incolmotos-yamaha.com.co/wp-content/uploads/2018/03/szgris_mini-1.jpg\" alt=\"\">\\n                                        <div class=\"text-motorcycle\">\\n            <h2 class=\"name\">SZRR</h2>\\n        </div>\\n        <span>VER MÁS</span>\\n    </div>\\n</a>\\n</div>\\n            </div>\\n            </section>'"
      ]
     },
     "execution_count": 5,
     "metadata": {},
     "output_type": "execute_result"
    }
   ],
   "source": [
    "html_puro"
   ]
  },
  {
   "cell_type": "code",
   "execution_count": 6,
   "metadata": {},
   "outputs": [
    {
     "data": {
      "text/plain": [
       "'<h2 class=\"name\">MT15</h2>\\n<h2 class=\"name\">MT10 SP</h2>\\n<h2 class=\"name\">MT09 SP</h2>\\n<h2 class=\"name\">Niken GT</h2>\\n<h2 class=\"name\">MT07</h2>\\n<h2 class=\"name\">TRACER 9 GT</h2>\\n<h2 class=\"name\">MT03</h2>\\n<h2 class=\"name\">MT09</h2>\\n<h2 class=\"name\">YZ450F</h2>\\n<h2 class=\"name\">PW50</h2>\\n<h2 class=\"name\">WR450F</h2>\\n<h2 class=\"name\">WR250F</h2>\\n<h2 class=\"name\">TTR50</h2>\\n<h2 class=\"name\">YZ250X</h2>\\n<h2 class=\"name\">YZ65</h2>\\n<h2 class=\"name\">TTR110</h2>\\n<h2 class=\"name\">YZ85LW</h2>\\n<h2 class=\"name\">YZ125</h2>\\n<h2 class=\"name\">YZ250</h2>\\n<h2 class=\"name\">YZ250F</h2>\\n<h2 class=\"name\">Aerox 155</h2>\\n<h2 class=\"name\">Tmax</h2>\\n<h2 class=\"name\">NMAX</h2>\\n<h2 class=\"name\">Xmax 300</h2>\\n<h2 class=\"name\">CRYPTON FI</h2>\\n<h2 class=\"name\">YFM110R</h2>\\n<h2 class=\"name\">kodiak 450</h2>\\n<h2 class=\"name\">Wolverine RMAX 4</h2>\\n<h2 class=\"name\">Wolverine RMAX 2</h2>\\n<h2 class=\"name\">YFM700F</h2>\\n<h2 class=\"name\">YFM700R</h2>\\n<h2 class=\"name\">Ténéré 700</h2>\\n<h2 class=\"name\">Super Teneré 1200ZE</h2>\\n<h2 class=\"name\">XSR900</h2>\\n<h2 class=\"name\">R15v4</h2>\\n<h2 class=\"name\">R1</h2>\\n<h2 class=\"name\">XTZ150</h2>\\n<h2 class=\"name\">XTZ250</h2>\\n<h2 class=\"name\">XTZ125</h2>\\n<h2 class=\"name\">FZ VERSIÓN 3.0</h2>\\n<h2 class=\"name\">YBRZ</h2>\\n<h2 class=\"name\">FZ25 ABS</h2>\\n<h2 class=\"name\">YCZ</h2>\\n<h2 class=\"name\">SZRR</h2>'"
      ]
     },
     "execution_count": 6,
     "metadata": {},
     "output_type": "execute_result"
    }
   ],
   "source": [
    "# Ejemplo de uso:\n",
    "clases_a_conservar = [\"name\"]\n",
    "html_modificado = eliminar_clases_html(html_puro, clases_a_conservar=clases_a_conservar)\n",
    "html_modificado"
   ]
  },
  {
   "cell_type": "code",
   "execution_count": 7,
   "metadata": {},
   "outputs": [
    {
     "name": "stdout",
     "output_type": "stream",
     "text": [
      "El contenido se ha exportado a 'modelos_extraidos.html'\n"
     ]
    }
   ],
   "source": [
    "# Exportar el contenido a un archivo HTML\n",
    "with open(ruta, \"w\", encoding=\"utf-8\") as archivo_html:\n",
    "    archivo_html.write(html_modificado)  # Guardar el HTML modificado en un archivo\n",
    "\n",
    "# Mostrar confirmación (en español)\n",
    "print(\"El contenido se ha exportado a 'modelos_extraidos.html'\")"
   ]
  },
  {
   "cell_type": "markdown",
   "metadata": {},
   "source": [
    "## Leer el HTML con los modelos"
   ]
  },
  {
   "cell_type": "markdown",
   "metadata": {},
   "source": [
    "El HTML contiene cada uno de los modelos existentes de la marca"
   ]
  },
  {
   "cell_type": "code",
   "execution_count": 8,
   "metadata": {},
   "outputs": [
    {
     "data": {
      "text/plain": [
       "'MT15,\\nMT10 SP,\\nMT09 SP,\\nNiken GT,\\nMT07,\\nTRACER 9 GT,\\nMT03,\\nMT09,\\nYZ450F,\\nPW50,\\nWR450F,\\nWR250F,\\nTTR50,\\nYZ250X,\\nYZ65,\\nTTR110,\\nYZ85LW,\\nYZ125,\\nYZ250,\\nYZ250F,\\nAerox 155,\\nTmax,\\nNMAX,\\nXmax 300,\\nCRYPTON FI,\\nYFM110R,\\nkodiak 450,\\nWolverine RMAX 4,\\nWolverine RMAX 2,\\nYFM700F,\\nYFM700R,\\nTenere 700,\\nSuper Tenere 1200ZE,\\nXSR900,\\nR15v4,\\nR1,\\nXTZ150,\\nXTZ250,\\nXTZ125,\\nFZ Versión 3.0,\\nYBRZ,\\nFZ25 ABS,\\nYCZ,\\nSZRR,'"
      ]
     },
     "execution_count": 8,
     "metadata": {},
     "output_type": "execute_result"
    }
   ],
   "source": [
    "\n",
    "# Leer el HTML con los datos de los nombres de los modelos\n",
    "contenido_html = leer_html(ruta)\n",
    "contenido_html"
   ]
  },
  {
   "cell_type": "code",
   "execution_count": 9,
   "metadata": {},
   "outputs": [],
   "source": [
    "# Aplicar la función mejorada\n",
    "contenido_html_limpio = limpiar_texto_modelos(contenido_html)\n",
    "\n",
    "# Si necesitas agregar palabras específicas para una marca:\n",
    "palabras_adicionales = ['SEPARAR', 'VER MOTO', 'PROMOCION', \"Reserva\", \"RESERVA\"]  # Ejemplo\n",
    "contenido_html_limpio = limpiar_texto_modelos_personalizado(contenido_html_limpio, palabras_adicionales)"
   ]
  },
  {
   "cell_type": "code",
   "execution_count": 10,
   "metadata": {},
   "outputs": [],
   "source": [
    "contenido_html_limpio = contenido_html_limpio.replace(\"Nueva\", \",\").strip()\n",
    "contenido_html_limpio = contenido_html_limpio.replace(\"NUEVA\", \",\").strip()\n",
    "# Eliminar los años y también los espacios extra dejados por la eliminación\n",
    "for anio in [\"2025\", \"2024\"]:\n",
    "    contenido_html_limpio = contenido_html_limpio.replace(anio, \"\")\n",
    "# Reemplazar múltiples espacios y comas seguidas por una sola coma y limpiar espacios\n",
    "import re\n",
    "contenido_html_limpio = re.sub(r'\\s+,', ',', contenido_html_limpio)  # Quitar espacios antes de comas\n",
    "contenido_html_limpio = re.sub(r',\\s+', ',', contenido_html_limpio)  # Quitar espacios después de comas\n",
    "contenido_html_limpio = re.sub(r'\\s{2,}', ' ', contenido_html_limpio)  # Quitar espacios dobles\n",
    "contenido_html_limpio = re.sub(r',+', ',', contenido_html_limpio)  # Quitar comas dobles\n",
    "contenido_html_limpio = contenido_html_limpio.strip(' ,\\n\\t')  # Limpiar espacios y comas al inicio/fin"
   ]
  },
  {
   "cell_type": "code",
   "execution_count": 12,
   "metadata": {},
   "outputs": [
    {
     "data": {
      "text/plain": [
       "'MT15,MT10 SP,MT09 SP,Niken GT,MT07,TRACER 9 GT,MT03,MT09,YZ450F,PW50,WR450F,WR250F,TTR50,YZ250X,YZ65,TTR110,YZ85LW,YZ125,YZ250,YZ250F,Aerox 155,Tmax,NMAX,Xmax 300,CRYPTON FI,YFM110R,kodiak 450,Wolverine RMAX 4,Wolverine RMAX 2,YFM700F,YFM700R,Tenere 700,Super Tenere 1200ZE,XSR900,R15v4,R1,XTZ150,XTZ250,XTZ125,FZ Versión 3.0,YBRZ,FZ25 ABS,YCZ,SZRR'"
      ]
     },
     "execution_count": 12,
     "metadata": {},
     "output_type": "execute_result"
    }
   ],
   "source": [
    "contenido_html_limpio"
   ]
  },
  {
   "cell_type": "markdown",
   "metadata": {},
   "source": [
    "## Limpieza de datos"
   ]
  },
  {
   "cell_type": "markdown",
   "metadata": {},
   "source": [
    "### Verificar los nombres de los modelos extraídos del HTML"
   ]
  },
  {
   "cell_type": "markdown",
   "metadata": {},
   "source": [
    "Se exporta lo leído y limpiado del HTML para verificar que los nombres sean los correctos. En caso de que alguno sea erróneo, se modifica."
   ]
  },
  {
   "cell_type": "code",
   "execution_count": 13,
   "metadata": {},
   "outputs": [
    {
     "name": "stdout",
     "output_type": "stream",
     "text": [
      "Contenido exportado a Yamaha.txt\n"
     ]
    }
   ],
   "source": [
    "# Exportar el contenido a un archivo txt\n",
    "with open(f\"pages/{nombre_marca}/{pais}/{nombre_marca}.txt\", \"w\", encoding=\"utf-8\") as archivo:\n",
    "    archivo.write(contenido_html_limpio)\n",
    "print(f\"Contenido exportado a {nombre_marca}.txt\")"
   ]
  },
  {
   "cell_type": "markdown",
   "metadata": {},
   "source": [
    "### Lectura de los nombres previamente confirmado"
   ]
  },
  {
   "cell_type": "code",
   "execution_count": 97,
   "metadata": {},
   "outputs": [],
   "source": [
    "# Leer el contenido del archivo txt\n",
    "with open(f\"pages/{nombre_marca}/{pais}/{nombre_marca}.txt\", \"r\", encoding=\"utf-8\") as archivo:\n",
    "    contenido_txt = archivo.read()"
   ]
  },
  {
   "cell_type": "code",
   "execution_count": 98,
   "metadata": {},
   "outputs": [
    {
     "data": {
      "text/plain": [
       "'NAVI,DIO,ELITE 125,CB190R,CB300F TWISTER,CB650 R,CB750 HORNET,CB125F,CB190R,CB300F TWISTER,CB650 R,CB750 HORNET,CB125F,CB190R,CB300F TWISTER,CB650 R,XR150 L,XR190 L,CRF 300 L,CRF 300 RALLY,XR150 L,XR190 L,CRF 300 L,CRF 300 RALLY,XR150 L,XR190 L,CRF 300 L,CRF 300 RALLY,NC 750X/XD,XL750 TRANSALP,AFRICA TWIN STANDARD,AFRICA TWIN ADVENTURE,NX190,SAHARA 300,NX500,NC 750X/XD,XL750 TRANSALP,AFRICA TWIN STANDARD,AFRICA TWIN ADVENTURE,NX190,SAHARA 300,NX500,NC 750X/XD,CRF 150RB,CRF 250R,CRF 450R,CRF 110 F,CRF 250 F,CRF 250RX,CRF 450RX,TRX 250 TM,TRX 420,GOLDWING GL1800'"
      ]
     },
     "execution_count": 98,
     "metadata": {},
     "output_type": "execute_result"
    }
   ],
   "source": [
    "contenido_txt"
   ]
  },
  {
   "cell_type": "markdown",
   "metadata": {},
   "source": [
    "### Eliminar no-modelos"
   ]
  },
  {
   "cell_type": "code",
   "execution_count": 92,
   "metadata": {},
   "outputs": [],
   "source": [
    "from openai_utils.templates.gpt_questions import obtener_respuesta\n",
    "\n",
    "# Modificación del prompt para obtener una respuesta estructurada\n",
    "pregunta = f\"\"\"\n",
    "Necesito que de la siguiente lista, me retornes los que son modelos de motos.\n",
    "Puede que la lista que te envie realmente sean los modelos y no haya que eliminar.\n",
    "Texto descriptivo no lo elijas. Límitate a solo contestar con los modelos.\n",
    "No decores la respuesta\n",
    "La lista es la siguiente:\n",
    "{contenido_txt}\n",
    "\"\"\"\n",
    "\n",
    "respuesta_ia = obtener_respuesta(pregunta, 500)"
   ]
  },
  {
   "cell_type": "code",
   "execution_count": 93,
   "metadata": {},
   "outputs": [
    {
     "data": {
      "text/plain": [
       "'NAVI, DIO, ELITE 125, CB190R, CB300F TWISTER, CB650 R, CB750 HORNET, CB125F, XR150 L, XR190 L, CRF 300 L, CRF 300 RALLY, NC 750X/XD, XL750 TRANSALP, AFRICA TWIN STANDARD, AFRICA TWIN ADVENTURE, NX190, SAHARA 300, NX500, CRF 150RB, CRF 250R, CRF 450R, CRF 110 F, CRF 250 F, CRF 250RX, CRF 450RX, TRX 250 TM, TRX 420, GOLDWING GL1800.'"
      ]
     },
     "execution_count": 93,
     "metadata": {},
     "output_type": "execute_result"
    }
   ],
   "source": [
    "texto_modelos_desordenados = respuesta_ia['respuesta']\n",
    "texto_modelos_desordenados"
   ]
  },
  {
   "cell_type": "markdown",
   "metadata": {},
   "source": [
    "### Procesar lista de modelos identificados"
   ]
  },
  {
   "cell_type": "markdown",
   "metadata": {},
   "source": [
    "Del texto anterior dado por la IA de modelos, se identifica cada uno de estos"
   ]
  },
  {
   "cell_type": "code",
   "execution_count": 99,
   "metadata": {},
   "outputs": [
    {
     "data": {
      "text/plain": [
       "['Honda NAVI,DIO,ELITE 125,CB190R,CB300F TWISTER,CB650 R,CB750 HORNET,CB125F,CB190R,CB300F TWISTER,CB650 R,CB750 HORNET,CB125F,CB190R,CB300F TWISTER,CB650 R,XR150 L,XR190 L,CRF 300 L,CRF 300 RALLY,XR150 L,XR190 L,CRF 300 L,CRF 300 RALLY,XR150 L,XR190 L,CRF 300 L,CRF 300 RALLY,NC 750X/XD,XL750 TRANSALP,AFRICA TWIN STANDARD,AFRICA TWIN ADVENTURE,NX190,SAHARA 300,NX500,NC 750X/XD,XL750 TRANSALP,AFRICA TWIN STANDARD,AFRICA TWIN ADVENTURE,NX190,SAHARA 300,NX500,NC 750X/XD,CRF 150RB,CRF 250R,CRF 450R,CRF 110 F,CRF 250 F,CRF 250RX,CRF 450RX,TRX 250 TM,TRX 420,GOLDWING GL1800']"
      ]
     },
     "execution_count": 99,
     "metadata": {},
     "output_type": "execute_result"
    }
   ],
   "source": [
    "lista_modelos_ordenados = get_modelos_from_text(contenido_txt, nombre_marca)\n",
    "lista_modelos_ordenados"
   ]
  },
  {
   "cell_type": "code",
   "execution_count": 20,
   "metadata": {},
   "outputs": [
    {
     "data": {
      "text/plain": [
       "['Honda GL1800 GOLD WING, REBEL 1100, CRF1100A AFRICA TWIN, CRF1100D4 AFRICA TWIN ADVENTURE SPORTS, CRF1100A4 AFRICA TWIN ADVENTURE SPORTS, CB1000 SP, CBR1000RR, CBR1000RR-R FIREBLADE, TALON 1000X, TALON 1000X 4, CB750, TRANSALP, NC750XA, NC750XD, CB650R, CBR600RR, CMX500A REBEL, CMX500A2 SE REBEL, CRF450R, CRF450X, CRF450RX, CMX300 REBEL, WAVE110, DIO110.']"
      ]
     },
     "execution_count": 20,
     "metadata": {},
     "output_type": "execute_result"
    }
   ],
   "source": [
    "lista_modelos_ordenados = get_modelos_from_text(texto_modelos_desordenados, nombre_marca)\n",
    "lista_modelos_ordenados"
   ]
  },
  {
   "cell_type": "markdown",
   "metadata": {},
   "source": [
    "### Exportar y validar la lista de modelos procesados"
   ]
  },
  {
   "cell_type": "code",
   "execution_count": 100,
   "metadata": {},
   "outputs": [
    {
     "name": "stdout",
     "output_type": "stream",
     "text": [
      "Contenido exportado a Honda.txt ordenado alfabéticamente\n"
     ]
    }
   ],
   "source": [
    "# Exportar el contenido a un archivo txt ordenado alfabéticamente\n",
    "with open(f\"pages/{nombre_marca}/{pais}/{nombre_marca}.txt\", \"w\", encoding=\"utf-8\") as archivo:\n",
    "    # Ordenar la lista alfabéticamente y convertir a string con saltos de línea\n",
    "    lista_ordenada = sorted(lista_modelos_ordenados)\n",
    "    contenido = '\\n'.join(lista_ordenada)\n",
    "    archivo.write(contenido)\n",
    "print(f\"Contenido exportado a {nombre_marca}.txt ordenado alfabéticamente\")"
   ]
  },
  {
   "cell_type": "code",
   "execution_count": null,
   "metadata": {},
   "outputs": [],
   "source": []
  }
 ],
 "metadata": {
  "kernelspec": {
   "display_name": "venv",
   "language": "python",
   "name": "python3"
  },
  "language_info": {
   "codemirror_mode": {
    "name": "ipython",
    "version": 3
   },
   "file_extension": ".py",
   "mimetype": "text/x-python",
   "name": "python",
   "nbconvert_exporter": "python",
   "pygments_lexer": "ipython3",
   "version": "3.11.0"
  }
 },
 "nbformat": 4,
 "nbformat_minor": 2
}
