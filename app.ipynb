{
 "cells": [
  {
   "cell_type": "code",
   "execution_count": 23,
   "metadata": {},
   "outputs": [],
   "source": [
    "import pandas as pd"
   ]
  },
  {
   "cell_type": "markdown",
   "metadata": {},
   "source": [
    "#### Definición de variables"
   ]
  },
  {
   "cell_type": "code",
   "execution_count": 24,
   "metadata": {},
   "outputs": [],
   "source": [
    "brand_name = \"KTM\"\n",
    "pais = 'CO'"
   ]
  },
  {
   "cell_type": "markdown",
   "metadata": {},
   "source": [
    "#### Lectura de la base"
   ]
  },
  {
   "cell_type": "code",
   "execution_count": 25,
   "metadata": {},
   "outputs": [
    {
     "name": "stderr",
     "output_type": "stream",
     "text": [
      "C:\\Users\\JTRUJILLO\\AppData\\Local\\Temp\\ipykernel_2088\\863694601.py:7: DtypeWarning: Columns (29) have mixed types. Specify dtype option on import or set low_memory=False.\n",
      "  df_base = pd.read_csv(base_co)\n"
     ]
    }
   ],
   "source": [
    "base_mx = r\"C:\\Users\\JTRUJILLO\\Documents\\Galgo\\Scripts\\Data\\historical_data\\history\\MX\\BaseMXv5.csv\"\n",
    "base_co = r\"C:\\Users\\JTRUJILLO\\Documents\\Galgo\\Scripts\\Data\\historical_data\\history\\CO\\BaseCOv2.csv\"\n",
    "base_cl = r\"C:\\Users\\JTRUJILLO\\Documents\\Galgo\\Scripts\\Data\\historical_data\\history\\CL-MOTORCYCLES\\df_cl-motorcycles_history.csv\"\n",
    "if pais == \"MX\":\n",
    "    df_base = pd.read_csv(base_mx)\n",
    "elif pais == \"CO\":\n",
    "    df_base = pd.read_csv(base_co)\n",
    "elif pais == \"CL\":\n",
    "    df_base = pd.read_csv(base_cl)\n",
    "\n",
    "last_date = df_base[\"Fecha de actualización\"].iloc[-1]\n",
    "df_base = df_base[df_base[\"Fecha de actualización\"] == last_date]"
   ]
  },
  {
   "cell_type": "markdown",
   "metadata": {},
   "source": [
    "#### Filtrar solamente por modelos que no están descontinuados"
   ]
  },
  {
   "cell_type": "code",
   "execution_count": 44,
   "metadata": {},
   "outputs": [
    {
     "data": {
      "text/html": [
       "<div>\n",
       "<style scoped>\n",
       "    .dataframe tbody tr th:only-of-type {\n",
       "        vertical-align: middle;\n",
       "    }\n",
       "\n",
       "    .dataframe tbody tr th {\n",
       "        vertical-align: top;\n",
       "    }\n",
       "\n",
       "    .dataframe thead th {\n",
       "        text-align: right;\n",
       "    }\n",
       "</style>\n",
       "<table border=\"1\" class=\"dataframe\">\n",
       "  <thead>\n",
       "    <tr style=\"text-align: right;\">\n",
       "      <th></th>\n",
       "      <th>Fecha de actualización</th>\n",
       "      <th>country</th>\n",
       "      <th>categoryCode</th>\n",
       "      <th>code</th>\n",
       "      <th>Marca</th>\n",
       "      <th>Modelo</th>\n",
       "      <th>Año</th>\n",
       "      <th>sku</th>\n",
       "      <th>Tipo</th>\n",
       "      <th>Cilindrada</th>\n",
       "      <th>...</th>\n",
       "      <th>url_final</th>\n",
       "      <th>Título</th>\n",
       "      <th>url_coincide_titulo</th>\n",
       "      <th>url_tiene_año</th>\n",
       "      <th>años_disponibles</th>\n",
       "      <th>tiene_año_actualizado</th>\n",
       "      <th>code_modelos_agrupados</th>\n",
       "      <th>ID</th>\n",
       "      <th>Relevancia</th>\n",
       "      <th>Tags</th>\n",
       "    </tr>\n",
       "  </thead>\n",
       "  <tbody>\n",
       "    <tr>\n",
       "      <th>66183</th>\n",
       "      <td>30/06/2025</td>\n",
       "      <td>CO</td>\n",
       "      <td>CO-MOTORCYCLES</td>\n",
       "      <td>CO1899-hero-ignitor-super-street</td>\n",
       "      <td>Hero</td>\n",
       "      <td>Ignitor Super Street</td>\n",
       "      <td>2025</td>\n",
       "      <td>648452702.0</td>\n",
       "      <td>['Urbana']</td>\n",
       "      <td>125</td>\n",
       "      <td>...</td>\n",
       "      <td>https://www.galgo.com/co/motos/CO1899-hero-ign...</td>\n",
       "      <td>Hero Ignitor Super Street</td>\n",
       "      <td>True</td>\n",
       "      <td>False</td>\n",
       "      <td>2024, 2025, 2026</td>\n",
       "      <td>True</td>\n",
       "      <td>CO1899-hero-ignitor-super-street</td>\n",
       "      <td>CO1899</td>\n",
       "      <td>80</td>\n",
       "      <td>NaN</td>\n",
       "    </tr>\n",
       "    <tr>\n",
       "      <th>66184</th>\n",
       "      <td>30/06/2025</td>\n",
       "      <td>CO</td>\n",
       "      <td>CO-MOTORCYCLES</td>\n",
       "      <td>CO2800-tvs-stryker-12</td>\n",
       "      <td>TVS</td>\n",
       "      <td>Stryker 125</td>\n",
       "      <td>2026</td>\n",
       "      <td>140891544.0</td>\n",
       "      <td>['Urbana']</td>\n",
       "      <td>125</td>\n",
       "      <td>...</td>\n",
       "      <td>https://www.galgo.com/co/motos/CO2800-tvs-stry...</td>\n",
       "      <td>TVS Stryker 125</td>\n",
       "      <td>False</td>\n",
       "      <td>False</td>\n",
       "      <td>2025, 2026</td>\n",
       "      <td>True</td>\n",
       "      <td>CO2800-tvs-stryker-12</td>\n",
       "      <td>CO2800</td>\n",
       "      <td>80</td>\n",
       "      <td>NaN</td>\n",
       "    </tr>\n",
       "    <tr>\n",
       "      <th>66185</th>\n",
       "      <td>30/06/2025</td>\n",
       "      <td>CO</td>\n",
       "      <td>CO-MOTORCYCLES</td>\n",
       "      <td>CO1043-bajaj-pulsar-n160</td>\n",
       "      <td>Bajaj</td>\n",
       "      <td>Pulsar N 160</td>\n",
       "      <td>2025</td>\n",
       "      <td>867941485.0</td>\n",
       "      <td>['Naked']</td>\n",
       "      <td>150</td>\n",
       "      <td>...</td>\n",
       "      <td>https://www.galgo.com/co/motos/CO1043-bajaj-pu...</td>\n",
       "      <td>Bajaj Pulsar N160</td>\n",
       "      <td>True</td>\n",
       "      <td>False</td>\n",
       "      <td>2025, 2026</td>\n",
       "      <td>True</td>\n",
       "      <td>CO1043-bajaj-pulsar-n160</td>\n",
       "      <td>CO1043</td>\n",
       "      <td>75</td>\n",
       "      <td>NaN</td>\n",
       "    </tr>\n",
       "    <tr>\n",
       "      <th>66186</th>\n",
       "      <td>30/06/2025</td>\n",
       "      <td>CO</td>\n",
       "      <td>CO-MOTORCYCLES</td>\n",
       "      <td>CO955-royal-enfield-interceptor-650</td>\n",
       "      <td>Royal Enfield</td>\n",
       "      <td>Interceptor 650</td>\n",
       "      <td>2024</td>\n",
       "      <td>946509727.0</td>\n",
       "      <td>['Café Racer']</td>\n",
       "      <td>650</td>\n",
       "      <td>...</td>\n",
       "      <td>https://www.galgo.com/co/motos/CO955-royal-enf...</td>\n",
       "      <td>Royal Enfield Interceptor 650</td>\n",
       "      <td>True</td>\n",
       "      <td>False</td>\n",
       "      <td>2024</td>\n",
       "      <td>False</td>\n",
       "      <td>CO955-royal-enfield-interceptor-650</td>\n",
       "      <td>CO955</td>\n",
       "      <td>5</td>\n",
       "      <td>NaN</td>\n",
       "    </tr>\n",
       "    <tr>\n",
       "      <th>66188</th>\n",
       "      <td>30/06/2025</td>\n",
       "      <td>CO</td>\n",
       "      <td>CO-MOTORCYCLES</td>\n",
       "      <td>CO1635-yamaha-xsr900-2024</td>\n",
       "      <td>Yamaha</td>\n",
       "      <td>XSR900</td>\n",
       "      <td>2024</td>\n",
       "      <td>451117628.0</td>\n",
       "      <td>['Café Racer']</td>\n",
       "      <td>890</td>\n",
       "      <td>...</td>\n",
       "      <td>https://www.galgo.com/co/motos/CO1635-yamaha-x...</td>\n",
       "      <td>Yamaha XSR900</td>\n",
       "      <td>True</td>\n",
       "      <td>True</td>\n",
       "      <td>2024</td>\n",
       "      <td>False</td>\n",
       "      <td>CO1635-yamaha-xsr900-2024</td>\n",
       "      <td>CO1635</td>\n",
       "      <td>50</td>\n",
       "      <td>NaN</td>\n",
       "    </tr>\n",
       "  </tbody>\n",
       "</table>\n",
       "<p>5 rows × 30 columns</p>\n",
       "</div>"
      ],
      "text/plain": [
       "      Fecha de actualización country    categoryCode  \\\n",
       "66183             30/06/2025      CO  CO-MOTORCYCLES   \n",
       "66184             30/06/2025      CO  CO-MOTORCYCLES   \n",
       "66185             30/06/2025      CO  CO-MOTORCYCLES   \n",
       "66186             30/06/2025      CO  CO-MOTORCYCLES   \n",
       "66188             30/06/2025      CO  CO-MOTORCYCLES   \n",
       "\n",
       "                                      code          Marca  \\\n",
       "66183     CO1899-hero-ignitor-super-street           Hero   \n",
       "66184                CO2800-tvs-stryker-12            TVS   \n",
       "66185             CO1043-bajaj-pulsar-n160          Bajaj   \n",
       "66186  CO955-royal-enfield-interceptor-650  Royal Enfield   \n",
       "66188            CO1635-yamaha-xsr900-2024         Yamaha   \n",
       "\n",
       "                     Modelo   Año          sku            Tipo  Cilindrada  \\\n",
       "66183  Ignitor Super Street  2025  648452702.0      ['Urbana']         125   \n",
       "66184           Stryker 125  2026  140891544.0      ['Urbana']         125   \n",
       "66185          Pulsar N 160  2025  867941485.0       ['Naked']         150   \n",
       "66186       Interceptor 650  2024  946509727.0  ['Café Racer']         650   \n",
       "66188                XSR900  2024  451117628.0  ['Café Racer']         890   \n",
       "\n",
       "       ...                                          url_final  \\\n",
       "66183  ...  https://www.galgo.com/co/motos/CO1899-hero-ign...   \n",
       "66184  ...  https://www.galgo.com/co/motos/CO2800-tvs-stry...   \n",
       "66185  ...  https://www.galgo.com/co/motos/CO1043-bajaj-pu...   \n",
       "66186  ...  https://www.galgo.com/co/motos/CO955-royal-enf...   \n",
       "66188  ...  https://www.galgo.com/co/motos/CO1635-yamaha-x...   \n",
       "\n",
       "                              Título  url_coincide_titulo  url_tiene_año  \\\n",
       "66183      Hero Ignitor Super Street                 True          False   \n",
       "66184                TVS Stryker 125                False          False   \n",
       "66185              Bajaj Pulsar N160                 True          False   \n",
       "66186  Royal Enfield Interceptor 650                 True          False   \n",
       "66188                  Yamaha XSR900                 True           True   \n",
       "\n",
       "       años_disponibles  tiene_año_actualizado  \\\n",
       "66183  2024, 2025, 2026                   True   \n",
       "66184        2025, 2026                   True   \n",
       "66185        2025, 2026                   True   \n",
       "66186              2024                  False   \n",
       "66188              2024                  False   \n",
       "\n",
       "                    code_modelos_agrupados      ID Relevancia  Tags  \n",
       "66183     CO1899-hero-ignitor-super-street  CO1899         80   NaN  \n",
       "66184                CO2800-tvs-stryker-12  CO2800         80   NaN  \n",
       "66185             CO1043-bajaj-pulsar-n160  CO1043         75   NaN  \n",
       "66186  CO955-royal-enfield-interceptor-650   CO955          5   NaN  \n",
       "66188            CO1635-yamaha-xsr900-2024  CO1635         50   NaN  \n",
       "\n",
       "[5 rows x 30 columns]"
      ]
     },
     "execution_count": 44,
     "metadata": {},
     "output_type": "execute_result"
    }
   ],
   "source": [
    "df_base = df_base[df_base[\"stock_final\"] == True]\n",
    "df_base.head()"
   ]
  },
  {
   "cell_type": "markdown",
   "metadata": {},
   "source": [
    "### Lectura del archivo con los nombres de modelos"
   ]
  },
  {
   "cell_type": "code",
   "execution_count": 45,
   "metadata": {},
   "outputs": [],
   "source": [
    "with open(f\"pages/{brand_name}/{pais}/{brand_name}.txt\", \"r\", encoding=\"utf-8\") as file:\n",
    "    txt_content = file.read()"
   ]
  },
  {
   "cell_type": "code",
   "execution_count": 47,
   "metadata": {},
   "outputs": [
    {
     "data": {
      "text/plain": [
       "'KTM 125 SX\\nKTM 125 XC-W\\nKTM 150 EXC\\nKTM 150 SX\\nKTM 250 EXC\\nKTM 250 EXC CHAMPION EDITION\\nKTM 250 EXC SIX DAYS\\nKTM 250 EXC-F\\nKTM 250 EXC-F SIX DAYS\\nKTM 250 SX\\nKTM 250 SX-F\\nKTM 250 SX-F ADAMO EDITION\\nKTM 250 SX-F FACTORY EDITION\\nKTM 300 EXC\\nKTM 300 EXC CHAMPION EDITION\\nKTM 300 EXC HARDENDURO\\nKTM 300 EXC SIX DAYS\\nKTM 300 SX\\nKTM 350 EXC-F\\nKTM 350 EXC-F CHAMPION EDITION\\nKTM 350 EXC-F SIX DAYS\\nKTM 350 SX-F\\nKTM 390 Adventure R\\nKTM 390 Enduro R\\nKTM 450 EXC-F\\nKTM 450 EXC-F SIX DAYS\\nKTM 450 SX-F\\nKTM 450 SX-F FACTORY EDITION\\nKTM 500 EXC-F\\nKTM 500 EXC-F SIX DAYS\\nKTM 85 SX 17/14\\nKTM 890 Adventure R\\nKTM K\\nKTM Los modelos de motos de la lista son:\\nKTM SX 85 19/16\\nKTM SX-E 2\\nKTM SX-E 3\\nKTM SX-E 5'"
      ]
     },
     "execution_count": 47,
     "metadata": {},
     "output_type": "execute_result"
    }
   ],
   "source": [
    "txt_content"
   ]
  },
  {
   "cell_type": "markdown",
   "metadata": {},
   "source": [
    "\n",
    "##### Separarlo cada linea por salto de linea"
   ]
  },
  {
   "cell_type": "code",
   "execution_count": 48,
   "metadata": {},
   "outputs": [],
   "source": [
    "lista_modelos = txt_content.split('\\n')"
   ]
  },
  {
   "cell_type": "code",
   "execution_count": 49,
   "metadata": {},
   "outputs": [],
   "source": [
    "models_list = txt_content.split('\\n')"
   ]
  },
  {
   "cell_type": "markdown",
   "metadata": {},
   "source": [
    "### Pre procesado del DF con datos a validar"
   ]
  },
  {
   "cell_type": "code",
   "execution_count": 50,
   "metadata": {},
   "outputs": [
    {
     "name": "stderr",
     "output_type": "stream",
     "text": [
      "C:\\Users\\JTRUJILLO\\AppData\\Local\\Temp\\ipykernel_2088\\3019284855.py:2: SettingWithCopyWarning: \n",
      "A value is trying to be set on a copy of a slice from a DataFrame.\n",
      "Try using .loc[row_indexer,col_indexer] = value instead\n",
      "\n",
      "See the caveats in the documentation: https://pandas.pydata.org/pandas-docs/stable/user_guide/indexing.html#returning-a-view-versus-a-copy\n",
      "  df_marca_filtrada[\"modelo_mod\"] = df_marca_filtrada[\"Marca\"] + \" \" + df_marca_filtrada[\"Modelo\"]\n",
      "C:\\Users\\JTRUJILLO\\AppData\\Local\\Temp\\ipykernel_2088\\3019284855.py:3: SettingWithCopyWarning: \n",
      "A value is trying to be set on a copy of a slice from a DataFrame\n",
      "\n",
      "See the caveats in the documentation: https://pandas.pydata.org/pandas-docs/stable/user_guide/indexing.html#returning-a-view-versus-a-copy\n",
      "  df_marca_filtrada.drop_duplicates(subset=[\"code_modelos_agrupados\", \"modelo_mod\"], inplace=True)\n"
     ]
    }
   ],
   "source": [
    "df_marca_filtrada = df_base[df_base[\"Marca\"] == brand_name]\n",
    "df_marca_filtrada[\"modelo_mod\"] = df_marca_filtrada[\"Marca\"] + \" \" + df_marca_filtrada[\"Modelo\"]\n",
    "df_marca_filtrada.drop_duplicates(subset=[\"code_modelos_agrupados\", \"modelo_mod\"], inplace=True)\n",
    "df_marca_filtrada = df_marca_filtrada[[\"Marca\", \"Modelo\", \"modelo_mod\", \"code_modelos_agrupados\"]]"
   ]
  },
  {
   "cell_type": "markdown",
   "metadata": {},
   "source": [
    "### Eliminar nombre del modelo de la lista"
   ]
  },
  {
   "cell_type": "code",
   "execution_count": 51,
   "metadata": {},
   "outputs": [],
   "source": [
    "# Eliminar el nombre de la marca de cada modelo en la lista\n",
    "models_list = [modelo.replace(f\"{brand_name} \", \"\") for modelo in models_list if modelo.strip()]"
   ]
  },
  {
   "cell_type": "markdown",
   "metadata": {},
   "source": [
    "### Validar nombres de modelos con la IA"
   ]
  },
  {
   "cell_type": "code",
   "execution_count": 52,
   "metadata": {},
   "outputs": [],
   "source": [
    "from openai_utils.templates.gpt_questions import homologar_modelo_hibrido"
   ]
  },
  {
   "cell_type": "code",
   "execution_count": 53,
   "metadata": {},
   "outputs": [],
   "source": [
    "test = df_marca_filtrada.head(5)"
   ]
  },
  {
   "cell_type": "code",
   "execution_count": 54,
   "metadata": {},
   "outputs": [],
   "source": [
    "# Creamos listas para almacenar los resultados\n",
    "nombres_originales = []\n",
    "nombres_sugeridos = []\n",
    "\n",
    "# Aplicamos la función a todos los modelos\n",
    "for nombre in df_marca_filtrada[\"Modelo\"].values:\n",
    "    sugerido = homologar_modelo_hibrido(nombre, models_list)\n",
    "    nombres_originales.append(nombre)\n",
    "    nombres_sugeridos.append(sugerido[\"respuesta\"])\n",
    "\n",
    "# Creamos el dataframe con los resultados\n",
    "df_correcciones = pd.DataFrame({\n",
    "    'nombre_original': nombres_originales,\n",
    "    'modelo_sugerido': nombres_sugeridos\n",
    "})"
   ]
  },
  {
   "cell_type": "code",
   "execution_count": 55,
   "metadata": {},
   "outputs": [
    {
     "data": {
      "text/plain": [
       "['125 SX',\n",
       " '125 XC-W',\n",
       " '150 EXC',\n",
       " '150 SX',\n",
       " '250 EXC',\n",
       " '250 EXC CHAMPION EDITION',\n",
       " '250 EXC SIX DAYS',\n",
       " '250 EXC-F',\n",
       " '250 EXC-F SIX DAYS',\n",
       " '250 SX',\n",
       " '250 SX-F',\n",
       " '250 SX-F ADAMO EDITION',\n",
       " '250 SX-F FACTORY EDITION',\n",
       " '300 EXC',\n",
       " '300 EXC CHAMPION EDITION',\n",
       " '300 EXC HARDENDURO',\n",
       " '300 EXC SIX DAYS',\n",
       " '300 SX',\n",
       " '350 EXC-F',\n",
       " '350 EXC-F CHAMPION EDITION',\n",
       " '350 EXC-F SIX DAYS',\n",
       " '350 SX-F',\n",
       " '390 Adventure R',\n",
       " '390 Enduro R',\n",
       " '450 EXC-F',\n",
       " '450 EXC-F SIX DAYS',\n",
       " '450 SX-F',\n",
       " '450 SX-F FACTORY EDITION',\n",
       " '500 EXC-F',\n",
       " '500 EXC-F SIX DAYS',\n",
       " '85 SX 17/14',\n",
       " '890 Adventure R',\n",
       " 'K',\n",
       " 'Los modelos de motos de la lista son:',\n",
       " 'SX 85 19/16',\n",
       " 'SX-E 2',\n",
       " 'SX-E 3',\n",
       " 'SX-E 5']"
      ]
     },
     "execution_count": 55,
     "metadata": {},
     "output_type": "execute_result"
    }
   ],
   "source": [
    "models_list"
   ]
  },
  {
   "cell_type": "code",
   "execution_count": 56,
   "metadata": {},
   "outputs": [
    {
     "data": {
      "text/html": [
       "<div>\n",
       "<style scoped>\n",
       "    .dataframe tbody tr th:only-of-type {\n",
       "        vertical-align: middle;\n",
       "    }\n",
       "\n",
       "    .dataframe tbody tr th {\n",
       "        vertical-align: top;\n",
       "    }\n",
       "\n",
       "    .dataframe thead th {\n",
       "        text-align: right;\n",
       "    }\n",
       "</style>\n",
       "<table border=\"1\" class=\"dataframe\">\n",
       "  <thead>\n",
       "    <tr style=\"text-align: right;\">\n",
       "      <th></th>\n",
       "      <th>Marca</th>\n",
       "      <th>Modelo</th>\n",
       "      <th>modelo_mod</th>\n",
       "      <th>code_modelos_agrupados</th>\n",
       "    </tr>\n",
       "  </thead>\n",
       "  <tbody>\n",
       "  </tbody>\n",
       "</table>\n",
       "</div>"
      ],
      "text/plain": [
       "Empty DataFrame\n",
       "Columns: [Marca, Modelo, modelo_mod, code_modelos_agrupados]\n",
       "Index: []"
      ]
     },
     "execution_count": 56,
     "metadata": {},
     "output_type": "execute_result"
    }
   ],
   "source": [
    "df_marca_filtrada[df_marca_filtrada[\"Modelo\"] == \"YBR 125 C\"]"
   ]
  },
  {
   "cell_type": "code",
   "execution_count": 57,
   "metadata": {},
   "outputs": [],
   "source": [
    "df_correcciones.sort_values(by = \"nombre_original\", inplace = True)"
   ]
  },
  {
   "cell_type": "code",
   "execution_count": 58,
   "metadata": {},
   "outputs": [
    {
     "data": {
      "text/html": [
       "<div>\n",
       "<style scoped>\n",
       "    .dataframe tbody tr th:only-of-type {\n",
       "        vertical-align: middle;\n",
       "    }\n",
       "\n",
       "    .dataframe tbody tr th {\n",
       "        vertical-align: top;\n",
       "    }\n",
       "\n",
       "    .dataframe thead th {\n",
       "        text-align: right;\n",
       "    }\n",
       "</style>\n",
       "<table border=\"1\" class=\"dataframe\">\n",
       "  <thead>\n",
       "    <tr style=\"text-align: right;\">\n",
       "      <th></th>\n",
       "      <th>nombre_original</th>\n",
       "      <th>modelo_sugerido</th>\n",
       "    </tr>\n",
       "  </thead>\n",
       "  <tbody>\n",
       "    <tr>\n",
       "      <th>15</th>\n",
       "      <td>1290 Super Adventure</td>\n",
       "      <td>No encontrado</td>\n",
       "    </tr>\n",
       "    <tr>\n",
       "      <th>14</th>\n",
       "      <td>200 Duke Gen2</td>\n",
       "      <td>No encontrado</td>\n",
       "    </tr>\n",
       "    <tr>\n",
       "      <th>6</th>\n",
       "      <td>200 Duke Gen2 ABS</td>\n",
       "      <td>No encontrado</td>\n",
       "    </tr>\n",
       "    <tr>\n",
       "      <th>8</th>\n",
       "      <td>200 Duke WO</td>\n",
       "      <td>No encontrado</td>\n",
       "    </tr>\n",
       "    <tr>\n",
       "      <th>12</th>\n",
       "      <td>250 Adventure</td>\n",
       "      <td>No encontrado</td>\n",
       "    </tr>\n",
       "    <tr>\n",
       "      <th>1</th>\n",
       "      <td>250 Duke</td>\n",
       "      <td>No encontrado</td>\n",
       "    </tr>\n",
       "    <tr>\n",
       "      <th>9</th>\n",
       "      <td>250 EXC</td>\n",
       "      <td>250 EXC</td>\n",
       "    </tr>\n",
       "    <tr>\n",
       "      <th>13</th>\n",
       "      <td>300 EXC</td>\n",
       "      <td>300 EXC</td>\n",
       "    </tr>\n",
       "    <tr>\n",
       "      <th>11</th>\n",
       "      <td>390 Adventure</td>\n",
       "      <td>390 Adventure R</td>\n",
       "    </tr>\n",
       "    <tr>\n",
       "      <th>4</th>\n",
       "      <td>390 Duke NG</td>\n",
       "      <td>No encontrado</td>\n",
       "    </tr>\n",
       "    <tr>\n",
       "      <th>5</th>\n",
       "      <td>450 SMR</td>\n",
       "      <td>450 SX-F</td>\n",
       "    </tr>\n",
       "    <tr>\n",
       "      <th>2</th>\n",
       "      <td>690 Enduro R</td>\n",
       "      <td>390 Enduro R</td>\n",
       "    </tr>\n",
       "    <tr>\n",
       "      <th>7</th>\n",
       "      <td>890 Duke R</td>\n",
       "      <td>No encontrado</td>\n",
       "    </tr>\n",
       "    <tr>\n",
       "      <th>3</th>\n",
       "      <td>RC 200 GP</td>\n",
       "      <td>No encontrado</td>\n",
       "    </tr>\n",
       "    <tr>\n",
       "      <th>10</th>\n",
       "      <td>RC 390</td>\n",
       "      <td>No encontrado</td>\n",
       "    </tr>\n",
       "    <tr>\n",
       "      <th>0</th>\n",
       "      <td>RC 390 GP</td>\n",
       "      <td>No encontrado</td>\n",
       "    </tr>\n",
       "  </tbody>\n",
       "</table>\n",
       "</div>"
      ],
      "text/plain": [
       "         nombre_original  modelo_sugerido\n",
       "15  1290 Super Adventure    No encontrado\n",
       "14         200 Duke Gen2    No encontrado\n",
       "6      200 Duke Gen2 ABS    No encontrado\n",
       "8            200 Duke WO    No encontrado\n",
       "12         250 Adventure    No encontrado\n",
       "1               250 Duke    No encontrado\n",
       "9                250 EXC          250 EXC\n",
       "13               300 EXC          300 EXC\n",
       "11         390 Adventure  390 Adventure R\n",
       "4            390 Duke NG    No encontrado\n",
       "5                450 SMR         450 SX-F\n",
       "2           690 Enduro R     390 Enduro R\n",
       "7             890 Duke R    No encontrado\n",
       "3              RC 200 GP    No encontrado\n",
       "10                RC 390    No encontrado\n",
       "0              RC 390 GP    No encontrado"
      ]
     },
     "execution_count": 58,
     "metadata": {},
     "output_type": "execute_result"
    }
   ],
   "source": [
    "df_correcciones"
   ]
  },
  {
   "cell_type": "markdown",
   "metadata": {},
   "source": [
    "### Verificar manualmente los cruces"
   ]
  },
  {
   "cell_type": "code",
   "execution_count": 59,
   "metadata": {},
   "outputs": [],
   "source": [
    "df_correcciones.to_csv(f\"pages/{brand_name}/{brand_name}.csv\", index = False)"
   ]
  },
  {
   "cell_type": "code",
   "execution_count": null,
   "metadata": {},
   "outputs": [],
   "source": []
  },
  {
   "cell_type": "code",
   "execution_count": null,
   "metadata": {},
   "outputs": [],
   "source": []
  },
  {
   "cell_type": "markdown",
   "metadata": {},
   "source": [
    "### Lectura de archivo leído"
   ]
  },
  {
   "cell_type": "code",
   "execution_count": 60,
   "metadata": {},
   "outputs": [],
   "source": [
    "df_correcciones_vistas = pd.read_csv(f\"pages/{brand_name}/{brand_name}.csv\")"
   ]
  },
  {
   "cell_type": "code",
   "execution_count": 61,
   "metadata": {},
   "outputs": [],
   "source": [
    "df_nombres_sugeridos = pd.merge(df_marca_filtrada, df_correcciones_vistas[[\"nombre_original\", \"modelo_sugerido\"]],\n",
    "          left_on = \"Modelo\",\n",
    "            right_on = \"nombre_original\",\n",
    "              how = \"left\")\n",
    "df_nombres_sugeridos.drop(columns = [\"nombre_original\", \"modelo_mod\"], inplace = True)\n",
    "df_nombres_sugeridos = df_nombres_sugeridos[[\"code_modelos_agrupados\", \"Marca\", \"Modelo\", \"modelo_sugerido\"]]"
   ]
  },
  {
   "cell_type": "code",
   "execution_count": 62,
   "metadata": {},
   "outputs": [
    {
     "data": {
      "text/html": [
       "<div>\n",
       "<style scoped>\n",
       "    .dataframe tbody tr th:only-of-type {\n",
       "        vertical-align: middle;\n",
       "    }\n",
       "\n",
       "    .dataframe tbody tr th {\n",
       "        vertical-align: top;\n",
       "    }\n",
       "\n",
       "    .dataframe thead th {\n",
       "        text-align: right;\n",
       "    }\n",
       "</style>\n",
       "<table border=\"1\" class=\"dataframe\">\n",
       "  <thead>\n",
       "    <tr style=\"text-align: right;\">\n",
       "      <th></th>\n",
       "      <th>code_modelos_agrupados</th>\n",
       "      <th>Marca</th>\n",
       "      <th>Modelo</th>\n",
       "      <th>modelo_sugerido</th>\n",
       "    </tr>\n",
       "  </thead>\n",
       "  <tbody>\n",
       "    <tr>\n",
       "      <th>0</th>\n",
       "      <td>CO2402-ktm-rc-390-gp</td>\n",
       "      <td>KTM</td>\n",
       "      <td>RC 390 GP</td>\n",
       "      <td>No encontrado</td>\n",
       "    </tr>\n",
       "    <tr>\n",
       "      <th>1</th>\n",
       "      <td>CO2795-ktm-250-duke</td>\n",
       "      <td>KTM</td>\n",
       "      <td>250 Duke</td>\n",
       "      <td>No encontrado</td>\n",
       "    </tr>\n",
       "    <tr>\n",
       "      <th>2</th>\n",
       "      <td>CO1609-ktm-690-enduro-r-2024</td>\n",
       "      <td>KTM</td>\n",
       "      <td>690 Enduro R</td>\n",
       "      <td>390 Enduro R</td>\n",
       "    </tr>\n",
       "    <tr>\n",
       "      <th>3</th>\n",
       "      <td>CO2399-ktm-rc-200-gp</td>\n",
       "      <td>KTM</td>\n",
       "      <td>RC 200 GP</td>\n",
       "      <td>No encontrado</td>\n",
       "    </tr>\n",
       "    <tr>\n",
       "      <th>4</th>\n",
       "      <td>CO1397-ktm-390-duke-ng-2024</td>\n",
       "      <td>KTM</td>\n",
       "      <td>390 Duke NG</td>\n",
       "      <td>No encontrado</td>\n",
       "    </tr>\n",
       "    <tr>\n",
       "      <th>5</th>\n",
       "      <td>CO1608-ktm-450-smr-2024</td>\n",
       "      <td>KTM</td>\n",
       "      <td>450 SMR</td>\n",
       "      <td>450 SX-F</td>\n",
       "    </tr>\n",
       "    <tr>\n",
       "      <th>6</th>\n",
       "      <td>CO833-ktm-200-duke-ng-blanca</td>\n",
       "      <td>KTM</td>\n",
       "      <td>200 Duke Gen2 ABS</td>\n",
       "      <td>No encontrado</td>\n",
       "    </tr>\n",
       "    <tr>\n",
       "      <th>7</th>\n",
       "      <td>CO1610-ktm-890-duke-r-2023</td>\n",
       "      <td>KTM</td>\n",
       "      <td>890 Duke R</td>\n",
       "      <td>No encontrado</td>\n",
       "    </tr>\n",
       "    <tr>\n",
       "      <th>8</th>\n",
       "      <td>CO2929-ktm-200-duke-wo</td>\n",
       "      <td>KTM</td>\n",
       "      <td>200 Duke WO</td>\n",
       "      <td>No encontrado</td>\n",
       "    </tr>\n",
       "    <tr>\n",
       "      <th>9</th>\n",
       "      <td>CO1606-ktm-250-exc-2024</td>\n",
       "      <td>KTM</td>\n",
       "      <td>250 EXC</td>\n",
       "      <td>250 EXC</td>\n",
       "    </tr>\n",
       "    <tr>\n",
       "      <th>10</th>\n",
       "      <td>CO1401-ktm-rc-390-2024</td>\n",
       "      <td>KTM</td>\n",
       "      <td>RC 390</td>\n",
       "      <td>No encontrado</td>\n",
       "    </tr>\n",
       "    <tr>\n",
       "      <th>11</th>\n",
       "      <td>CO1399-ktm-390-adventure-2024</td>\n",
       "      <td>KTM</td>\n",
       "      <td>390 Adventure</td>\n",
       "      <td>390 Adventure R</td>\n",
       "    </tr>\n",
       "    <tr>\n",
       "      <th>12</th>\n",
       "      <td>CO1398-ktm-250-adventure-2024</td>\n",
       "      <td>KTM</td>\n",
       "      <td>250 Adventure</td>\n",
       "      <td>No encontrado</td>\n",
       "    </tr>\n",
       "    <tr>\n",
       "      <th>13</th>\n",
       "      <td>CO1607-ktm-300-exc-2024</td>\n",
       "      <td>KTM</td>\n",
       "      <td>300 EXC</td>\n",
       "      <td>300 EXC</td>\n",
       "    </tr>\n",
       "    <tr>\n",
       "      <th>14</th>\n",
       "      <td>CO1396-ktm-200-duke-generacion-1-2024</td>\n",
       "      <td>KTM</td>\n",
       "      <td>200 Duke Gen2</td>\n",
       "      <td>No encontrado</td>\n",
       "    </tr>\n",
       "    <tr>\n",
       "      <th>15</th>\n",
       "      <td>CO1375-ktm-1290-super-adventure</td>\n",
       "      <td>KTM</td>\n",
       "      <td>1290 Super Adventure</td>\n",
       "      <td>No encontrado</td>\n",
       "    </tr>\n",
       "  </tbody>\n",
       "</table>\n",
       "</div>"
      ],
      "text/plain": [
       "                   code_modelos_agrupados Marca                Modelo  \\\n",
       "0                    CO2402-ktm-rc-390-gp   KTM             RC 390 GP   \n",
       "1                     CO2795-ktm-250-duke   KTM              250 Duke   \n",
       "2            CO1609-ktm-690-enduro-r-2024   KTM          690 Enduro R   \n",
       "3                    CO2399-ktm-rc-200-gp   KTM             RC 200 GP   \n",
       "4             CO1397-ktm-390-duke-ng-2024   KTM           390 Duke NG   \n",
       "5                 CO1608-ktm-450-smr-2024   KTM               450 SMR   \n",
       "6            CO833-ktm-200-duke-ng-blanca   KTM     200 Duke Gen2 ABS   \n",
       "7              CO1610-ktm-890-duke-r-2023   KTM            890 Duke R   \n",
       "8                  CO2929-ktm-200-duke-wo   KTM           200 Duke WO   \n",
       "9                 CO1606-ktm-250-exc-2024   KTM               250 EXC   \n",
       "10                 CO1401-ktm-rc-390-2024   KTM                RC 390   \n",
       "11          CO1399-ktm-390-adventure-2024   KTM         390 Adventure   \n",
       "12          CO1398-ktm-250-adventure-2024   KTM         250 Adventure   \n",
       "13                CO1607-ktm-300-exc-2024   KTM               300 EXC   \n",
       "14  CO1396-ktm-200-duke-generacion-1-2024   KTM         200 Duke Gen2   \n",
       "15        CO1375-ktm-1290-super-adventure   KTM  1290 Super Adventure   \n",
       "\n",
       "    modelo_sugerido  \n",
       "0     No encontrado  \n",
       "1     No encontrado  \n",
       "2      390 Enduro R  \n",
       "3     No encontrado  \n",
       "4     No encontrado  \n",
       "5          450 SX-F  \n",
       "6     No encontrado  \n",
       "7     No encontrado  \n",
       "8     No encontrado  \n",
       "9           250 EXC  \n",
       "10    No encontrado  \n",
       "11  390 Adventure R  \n",
       "12    No encontrado  \n",
       "13          300 EXC  \n",
       "14    No encontrado  \n",
       "15    No encontrado  "
      ]
     },
     "execution_count": 62,
     "metadata": {},
     "output_type": "execute_result"
    }
   ],
   "source": [
    "df_nombres_sugeridos"
   ]
  },
  {
   "cell_type": "markdown",
   "metadata": {},
   "source": [
    "Exportar"
   ]
  },
  {
   "cell_type": "code",
   "execution_count": 65,
   "metadata": {},
   "outputs": [],
   "source": [
    "df_nombres_sugeridos.to_csv(f\"pages/{brand_name}/{pais}/{pais}-{brand_name}_sugeridos-FINAL2.csv\", index = False)"
   ]
  },
  {
   "cell_type": "code",
   "execution_count": null,
   "metadata": {},
   "outputs": [],
   "source": []
  },
  {
   "cell_type": "code",
   "execution_count": 64,
   "metadata": {},
   "outputs": [
    {
     "ename": "KeyError",
     "evalue": "'nombre_sugerido'",
     "output_type": "error",
     "traceback": [
      "\u001b[31m---------------------------------------------------------------------------\u001b[39m",
      "\u001b[31mKeyError\u001b[39m                                  Traceback (most recent call last)",
      "\u001b[36mFile \u001b[39m\u001b[32mc:\\Users\\JTRUJILLO\\Documents\\Galgo\\Scripts\\Otros\\homologar_modelos\\venv\\Lib\\site-packages\\pandas\\core\\indexes\\base.py:3812\u001b[39m, in \u001b[36mIndex.get_loc\u001b[39m\u001b[34m(self, key)\u001b[39m\n\u001b[32m   3811\u001b[39m \u001b[38;5;28;01mtry\u001b[39;00m:\n\u001b[32m-> \u001b[39m\u001b[32m3812\u001b[39m     \u001b[38;5;28;01mreturn\u001b[39;00m \u001b[38;5;28;43mself\u001b[39;49m\u001b[43m.\u001b[49m\u001b[43m_engine\u001b[49m\u001b[43m.\u001b[49m\u001b[43mget_loc\u001b[49m\u001b[43m(\u001b[49m\u001b[43mcasted_key\u001b[49m\u001b[43m)\u001b[49m\n\u001b[32m   3813\u001b[39m \u001b[38;5;28;01mexcept\u001b[39;00m \u001b[38;5;167;01mKeyError\u001b[39;00m \u001b[38;5;28;01mas\u001b[39;00m err:\n",
      "\u001b[36mFile \u001b[39m\u001b[32mpandas/_libs/index.pyx:167\u001b[39m, in \u001b[36mpandas._libs.index.IndexEngine.get_loc\u001b[39m\u001b[34m()\u001b[39m\n",
      "\u001b[36mFile \u001b[39m\u001b[32mpandas/_libs/index.pyx:196\u001b[39m, in \u001b[36mpandas._libs.index.IndexEngine.get_loc\u001b[39m\u001b[34m()\u001b[39m\n",
      "\u001b[36mFile \u001b[39m\u001b[32mpandas/_libs/hashtable_class_helper.pxi:7088\u001b[39m, in \u001b[36mpandas._libs.hashtable.PyObjectHashTable.get_item\u001b[39m\u001b[34m()\u001b[39m\n",
      "\u001b[36mFile \u001b[39m\u001b[32mpandas/_libs/hashtable_class_helper.pxi:7096\u001b[39m, in \u001b[36mpandas._libs.hashtable.PyObjectHashTable.get_item\u001b[39m\u001b[34m()\u001b[39m\n",
      "\u001b[31mKeyError\u001b[39m: 'nombre_sugerido'",
      "\nThe above exception was the direct cause of the following exception:\n",
      "\u001b[31mKeyError\u001b[39m                                  Traceback (most recent call last)",
      "\u001b[36mCell\u001b[39m\u001b[36m \u001b[39m\u001b[32mIn[64]\u001b[39m\u001b[32m, line 1\u001b[39m\n\u001b[32m----> \u001b[39m\u001b[32m1\u001b[39m df_correcciones[\u001b[43mdf_correcciones\u001b[49m\u001b[43m[\u001b[49m\u001b[33;43m\"\u001b[39;49m\u001b[33;43mnombre_sugerido\u001b[39;49m\u001b[33;43m\"\u001b[39;49m\u001b[43m]\u001b[49m == \u001b[33m\"\u001b[39m\u001b[33mNo encontrado\u001b[39m\u001b[33m\"\u001b[39m]\n",
      "\u001b[36mFile \u001b[39m\u001b[32mc:\\Users\\JTRUJILLO\\Documents\\Galgo\\Scripts\\Otros\\homologar_modelos\\venv\\Lib\\site-packages\\pandas\\core\\frame.py:4107\u001b[39m, in \u001b[36mDataFrame.__getitem__\u001b[39m\u001b[34m(self, key)\u001b[39m\n\u001b[32m   4105\u001b[39m \u001b[38;5;28;01mif\u001b[39;00m \u001b[38;5;28mself\u001b[39m.columns.nlevels > \u001b[32m1\u001b[39m:\n\u001b[32m   4106\u001b[39m     \u001b[38;5;28;01mreturn\u001b[39;00m \u001b[38;5;28mself\u001b[39m._getitem_multilevel(key)\n\u001b[32m-> \u001b[39m\u001b[32m4107\u001b[39m indexer = \u001b[38;5;28;43mself\u001b[39;49m\u001b[43m.\u001b[49m\u001b[43mcolumns\u001b[49m\u001b[43m.\u001b[49m\u001b[43mget_loc\u001b[49m\u001b[43m(\u001b[49m\u001b[43mkey\u001b[49m\u001b[43m)\u001b[49m\n\u001b[32m   4108\u001b[39m \u001b[38;5;28;01mif\u001b[39;00m is_integer(indexer):\n\u001b[32m   4109\u001b[39m     indexer = [indexer]\n",
      "\u001b[36mFile \u001b[39m\u001b[32mc:\\Users\\JTRUJILLO\\Documents\\Galgo\\Scripts\\Otros\\homologar_modelos\\venv\\Lib\\site-packages\\pandas\\core\\indexes\\base.py:3819\u001b[39m, in \u001b[36mIndex.get_loc\u001b[39m\u001b[34m(self, key)\u001b[39m\n\u001b[32m   3814\u001b[39m     \u001b[38;5;28;01mif\u001b[39;00m \u001b[38;5;28misinstance\u001b[39m(casted_key, \u001b[38;5;28mslice\u001b[39m) \u001b[38;5;129;01mor\u001b[39;00m (\n\u001b[32m   3815\u001b[39m         \u001b[38;5;28misinstance\u001b[39m(casted_key, abc.Iterable)\n\u001b[32m   3816\u001b[39m         \u001b[38;5;129;01mand\u001b[39;00m \u001b[38;5;28many\u001b[39m(\u001b[38;5;28misinstance\u001b[39m(x, \u001b[38;5;28mslice\u001b[39m) \u001b[38;5;28;01mfor\u001b[39;00m x \u001b[38;5;129;01min\u001b[39;00m casted_key)\n\u001b[32m   3817\u001b[39m     ):\n\u001b[32m   3818\u001b[39m         \u001b[38;5;28;01mraise\u001b[39;00m InvalidIndexError(key)\n\u001b[32m-> \u001b[39m\u001b[32m3819\u001b[39m     \u001b[38;5;28;01mraise\u001b[39;00m \u001b[38;5;167;01mKeyError\u001b[39;00m(key) \u001b[38;5;28;01mfrom\u001b[39;00m\u001b[38;5;250m \u001b[39m\u001b[34;01merr\u001b[39;00m\n\u001b[32m   3820\u001b[39m \u001b[38;5;28;01mexcept\u001b[39;00m \u001b[38;5;167;01mTypeError\u001b[39;00m:\n\u001b[32m   3821\u001b[39m     \u001b[38;5;66;03m# If we have a listlike key, _check_indexing_error will raise\u001b[39;00m\n\u001b[32m   3822\u001b[39m     \u001b[38;5;66;03m#  InvalidIndexError. Otherwise we fall through and re-raise\u001b[39;00m\n\u001b[32m   3823\u001b[39m     \u001b[38;5;66;03m#  the TypeError.\u001b[39;00m\n\u001b[32m   3824\u001b[39m     \u001b[38;5;28mself\u001b[39m._check_indexing_error(key)\n",
      "\u001b[31mKeyError\u001b[39m: 'nombre_sugerido'"
     ]
    }
   ],
   "source": [
    "df_correcciones[df_correcciones[\"nombre_sugerido\"] == \"No encontrado\"]"
   ]
  },
  {
   "cell_type": "code",
   "execution_count": 27,
   "metadata": {},
   "outputs": [
    {
     "data": {
      "text/html": [
       "<div>\n",
       "<style scoped>\n",
       "    .dataframe tbody tr th:only-of-type {\n",
       "        vertical-align: middle;\n",
       "    }\n",
       "\n",
       "    .dataframe tbody tr th {\n",
       "        vertical-align: top;\n",
       "    }\n",
       "\n",
       "    .dataframe thead th {\n",
       "        text-align: right;\n",
       "    }\n",
       "</style>\n",
       "<table border=\"1\" class=\"dataframe\">\n",
       "  <thead>\n",
       "    <tr style=\"text-align: right;\">\n",
       "      <th></th>\n",
       "      <th>nombre_original</th>\n",
       "      <th>nombre_sugerido</th>\n",
       "    </tr>\n",
       "  </thead>\n",
       "  <tbody>\n",
       "    <tr>\n",
       "      <th>0</th>\n",
       "      <td>Duke 390 ABS</td>\n",
       "      <td>390 Duke</td>\n",
       "    </tr>\n",
       "    <tr>\n",
       "      <th>1</th>\n",
       "      <td>390 Adventure ABS</td>\n",
       "      <td>390 Adventure SW</td>\n",
       "    </tr>\n",
       "    <tr>\n",
       "      <th>2</th>\n",
       "      <td>Duke 250</td>\n",
       "      <td>250 Duke</td>\n",
       "    </tr>\n",
       "    <tr>\n",
       "      <th>3</th>\n",
       "      <td>RC 390 ABS</td>\n",
       "      <td>RC 390</td>\n",
       "    </tr>\n",
       "    <tr>\n",
       "      <th>4</th>\n",
       "      <td>Duke 200</td>\n",
       "      <td>200 Duke</td>\n",
       "    </tr>\n",
       "    <tr>\n",
       "      <th>5</th>\n",
       "      <td>150 XC</td>\n",
       "      <td>150 EXC</td>\n",
       "    </tr>\n",
       "    <tr>\n",
       "      <th>6</th>\n",
       "      <td>250 EXC</td>\n",
       "      <td>250 EXC</td>\n",
       "    </tr>\n",
       "    <tr>\n",
       "      <th>8</th>\n",
       "      <td>1290 Super Adventure S</td>\n",
       "      <td>1290 Super Adventure S</td>\n",
       "    </tr>\n",
       "    <tr>\n",
       "      <th>9</th>\n",
       "      <td>1290 Super Duke R</td>\n",
       "      <td>1390 Super Duke R</td>\n",
       "    </tr>\n",
       "    <tr>\n",
       "      <th>10</th>\n",
       "      <td>RC 200</td>\n",
       "      <td>RC 200</td>\n",
       "    </tr>\n",
       "    <tr>\n",
       "      <th>11</th>\n",
       "      <td>250 SX-F</td>\n",
       "      <td>250 SX</td>\n",
       "    </tr>\n",
       "    <tr>\n",
       "      <th>12</th>\n",
       "      <td>250 Adventure</td>\n",
       "      <td>890 Adventure</td>\n",
       "    </tr>\n",
       "  </tbody>\n",
       "</table>\n",
       "</div>"
      ],
      "text/plain": [
       "           nombre_original         nombre_sugerido\n",
       "0             Duke 390 ABS                390 Duke\n",
       "1        390 Adventure ABS        390 Adventure SW\n",
       "2                 Duke 250                250 Duke\n",
       "3               RC 390 ABS                  RC 390\n",
       "4                 Duke 200                200 Duke\n",
       "5                   150 XC                 150 EXC\n",
       "6                  250 EXC                 250 EXC\n",
       "8   1290 Super Adventure S  1290 Super Adventure S\n",
       "9        1290 Super Duke R       1390 Super Duke R\n",
       "10                  RC 200                  RC 200\n",
       "11                250 SX-F                  250 SX\n",
       "12           250 Adventure           890 Adventure"
      ]
     },
     "execution_count": 27,
     "metadata": {},
     "output_type": "execute_result"
    }
   ],
   "source": [
    "df_correcciones[df_correcciones[\"nombre_sugerido\"] != \"No encontrado\"]"
   ]
  },
  {
   "cell_type": "code",
   "execution_count": null,
   "metadata": {},
   "outputs": [],
   "source": []
  },
  {
   "cell_type": "code",
   "execution_count": null,
   "metadata": {},
   "outputs": [],
   "source": []
  }
 ],
 "metadata": {
  "kernelspec": {
   "display_name": "venv",
   "language": "python",
   "name": "python3"
  },
  "language_info": {
   "codemirror_mode": {
    "name": "ipython",
    "version": 3
   },
   "file_extension": ".py",
   "mimetype": "text/x-python",
   "name": "python",
   "nbconvert_exporter": "python",
   "pygments_lexer": "ipython3",
   "version": "3.11.0"
  }
 },
 "nbformat": 4,
 "nbformat_minor": 2
}
